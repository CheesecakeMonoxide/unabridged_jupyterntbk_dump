{
 "cells": [
  {
   "cell_type": "markdown",
   "metadata": {},
   "source": [
    "<strong>Goal: </strong>\n",
    "<br>Estimate the return from a direct mailing in order to maximize donation profits.\n",
    "<br>Subject: Lapsing donors\n",
    "<br><strong>Models needed:</strong>\n",
    "<br>- Classifier: Identify which donors are most susceptible to donating (to send or not to send mail)\n",
    "<br>- Predict donation value: How much will be donated by a specific person/group (how much to invest in sending the mail)"
   ]
  },
  {
   "cell_type": "code",
   "execution_count": 1,
   "metadata": {},
   "outputs": [],
   "source": [
    "import pandas as pd\n",
    "import numpy as np\n",
    "import matplotlib.pyplot as plt\n",
    "import seaborn as sns\n",
    "import statsmodels.api as sm\n",
    "from statsmodels.stats.outliers_influence import variance_inflation_factor"
   ]
  },
  {
   "cell_type": "code",
   "execution_count": 2,
   "metadata": {},
   "outputs": [
    {
     "data": {
      "text/html": [
       "<div>\n",
       "<style scoped>\n",
       "    .dataframe tbody tr th:only-of-type {\n",
       "        vertical-align: middle;\n",
       "    }\n",
       "\n",
       "    .dataframe tbody tr th {\n",
       "        vertical-align: top;\n",
       "    }\n",
       "\n",
       "    .dataframe thead th {\n",
       "        text-align: right;\n",
       "    }\n",
       "</style>\n",
       "<table border=\"1\" class=\"dataframe\">\n",
       "  <thead>\n",
       "    <tr style=\"text-align: right;\">\n",
       "      <th></th>\n",
       "      <th>Unnamed: 0</th>\n",
       "      <th>Donated to In House</th>\n",
       "      <th>Donated to P3</th>\n",
       "      <th>Has Planned Giving Record</th>\n",
       "      <th>AGE</th>\n",
       "      <th>No. of Mail Order Responses</th>\n",
       "      <th>Is a major donor</th>\n",
       "      <th>Median HomeVal (hundreds)</th>\n",
       "      <th>Avg HomeVal (hundreds)</th>\n",
       "      <th>Median Rent(hundreds)</th>\n",
       "      <th>...</th>\n",
       "      <th>Neighbhd/Socio-ec Status_S1</th>\n",
       "      <th>Neighbhd/Socio-ec Status_S2</th>\n",
       "      <th>Neighbhd/Socio-ec Status_S3</th>\n",
       "      <th>Neighbhd/Socio-ec Status_T1</th>\n",
       "      <th>Neighbhd/Socio-ec Status_T2</th>\n",
       "      <th>Neighbhd/Socio-ec Status_T3</th>\n",
       "      <th>Neighbhd/Socio-ec Status_U1</th>\n",
       "      <th>Neighbhd/Socio-ec Status_U2</th>\n",
       "      <th>Neighbhd/Socio-ec Status_U3</th>\n",
       "      <th>Neighbhd/Socio-ec Status_U4</th>\n",
       "    </tr>\n",
       "    <tr>\n",
       "      <th>CONTROLN</th>\n",
       "      <th></th>\n",
       "      <th></th>\n",
       "      <th></th>\n",
       "      <th></th>\n",
       "      <th></th>\n",
       "      <th></th>\n",
       "      <th></th>\n",
       "      <th></th>\n",
       "      <th></th>\n",
       "      <th></th>\n",
       "      <th></th>\n",
       "      <th></th>\n",
       "      <th></th>\n",
       "      <th></th>\n",
       "      <th></th>\n",
       "      <th></th>\n",
       "      <th></th>\n",
       "      <th></th>\n",
       "      <th></th>\n",
       "      <th></th>\n",
       "      <th></th>\n",
       "    </tr>\n",
       "  </thead>\n",
       "  <tbody>\n",
       "    <tr>\n",
       "      <th>95515</th>\n",
       "      <td>0</td>\n",
       "      <td>0</td>\n",
       "      <td>0</td>\n",
       "      <td>0</td>\n",
       "      <td>60.000000</td>\n",
       "      <td>0</td>\n",
       "      <td>0</td>\n",
       "      <td>479</td>\n",
       "      <td>635</td>\n",
       "      <td>3</td>\n",
       "      <td>...</td>\n",
       "      <td>0</td>\n",
       "      <td>0</td>\n",
       "      <td>0</td>\n",
       "      <td>0</td>\n",
       "      <td>1</td>\n",
       "      <td>0</td>\n",
       "      <td>0</td>\n",
       "      <td>0</td>\n",
       "      <td>0</td>\n",
       "      <td>0</td>\n",
       "    </tr>\n",
       "    <tr>\n",
       "      <th>148535</th>\n",
       "      <td>1</td>\n",
       "      <td>0</td>\n",
       "      <td>0</td>\n",
       "      <td>0</td>\n",
       "      <td>46.000000</td>\n",
       "      <td>16</td>\n",
       "      <td>0</td>\n",
       "      <td>5468</td>\n",
       "      <td>5218</td>\n",
       "      <td>12</td>\n",
       "      <td>...</td>\n",
       "      <td>1</td>\n",
       "      <td>0</td>\n",
       "      <td>0</td>\n",
       "      <td>0</td>\n",
       "      <td>0</td>\n",
       "      <td>0</td>\n",
       "      <td>0</td>\n",
       "      <td>0</td>\n",
       "      <td>0</td>\n",
       "      <td>0</td>\n",
       "    </tr>\n",
       "    <tr>\n",
       "      <th>15078</th>\n",
       "      <td>2</td>\n",
       "      <td>0</td>\n",
       "      <td>0</td>\n",
       "      <td>0</td>\n",
       "      <td>69.349251</td>\n",
       "      <td>2</td>\n",
       "      <td>0</td>\n",
       "      <td>497</td>\n",
       "      <td>546</td>\n",
       "      <td>2</td>\n",
       "      <td>...</td>\n",
       "      <td>0</td>\n",
       "      <td>0</td>\n",
       "      <td>0</td>\n",
       "      <td>0</td>\n",
       "      <td>0</td>\n",
       "      <td>0</td>\n",
       "      <td>0</td>\n",
       "      <td>0</td>\n",
       "      <td>0</td>\n",
       "      <td>0</td>\n",
       "    </tr>\n",
       "    <tr>\n",
       "      <th>172556</th>\n",
       "      <td>3</td>\n",
       "      <td>0</td>\n",
       "      <td>0</td>\n",
       "      <td>0</td>\n",
       "      <td>70.000000</td>\n",
       "      <td>2</td>\n",
       "      <td>0</td>\n",
       "      <td>1000</td>\n",
       "      <td>1263</td>\n",
       "      <td>2</td>\n",
       "      <td>...</td>\n",
       "      <td>0</td>\n",
       "      <td>0</td>\n",
       "      <td>0</td>\n",
       "      <td>0</td>\n",
       "      <td>0</td>\n",
       "      <td>0</td>\n",
       "      <td>0</td>\n",
       "      <td>0</td>\n",
       "      <td>0</td>\n",
       "      <td>0</td>\n",
       "    </tr>\n",
       "    <tr>\n",
       "      <th>7112</th>\n",
       "      <td>4</td>\n",
       "      <td>1</td>\n",
       "      <td>1</td>\n",
       "      <td>0</td>\n",
       "      <td>78.000000</td>\n",
       "      <td>60</td>\n",
       "      <td>0</td>\n",
       "      <td>576</td>\n",
       "      <td>594</td>\n",
       "      <td>4</td>\n",
       "      <td>...</td>\n",
       "      <td>0</td>\n",
       "      <td>1</td>\n",
       "      <td>0</td>\n",
       "      <td>0</td>\n",
       "      <td>0</td>\n",
       "      <td>0</td>\n",
       "      <td>0</td>\n",
       "      <td>0</td>\n",
       "      <td>0</td>\n",
       "      <td>0</td>\n",
       "    </tr>\n",
       "  </tbody>\n",
       "</table>\n",
       "<p>5 rows × 112 columns</p>\n",
       "</div>"
      ],
      "text/plain": [
       "          Unnamed: 0  Donated to In House  Donated to P3  \\\n",
       "CONTROLN                                                   \n",
       "95515              0                    0              0   \n",
       "148535             1                    0              0   \n",
       "15078              2                    0              0   \n",
       "172556             3                    0              0   \n",
       "7112               4                    1              1   \n",
       "\n",
       "          Has Planned Giving Record        AGE  No. of Mail Order Responses  \\\n",
       "CONTROLN                                                                      \n",
       "95515                             0  60.000000                            0   \n",
       "148535                            0  46.000000                           16   \n",
       "15078                             0  69.349251                            2   \n",
       "172556                            0  70.000000                            2   \n",
       "7112                              0  78.000000                           60   \n",
       "\n",
       "          Is a major donor  Median HomeVal (hundreds)  Avg HomeVal (hundreds)  \\\n",
       "CONTROLN                                                                        \n",
       "95515                    0                        479                     635   \n",
       "148535                   0                       5468                    5218   \n",
       "15078                    0                        497                     546   \n",
       "172556                   0                       1000                    1263   \n",
       "7112                     0                        576                     594   \n",
       "\n",
       "          Median Rent(hundreds)             ...               \\\n",
       "CONTROLN                                    ...                \n",
       "95515                         3             ...                \n",
       "148535                       12             ...                \n",
       "15078                         2             ...                \n",
       "172556                        2             ...                \n",
       "7112                          4             ...                \n",
       "\n",
       "          Neighbhd/Socio-ec Status_S1  Neighbhd/Socio-ec Status_S2  \\\n",
       "CONTROLN                                                             \n",
       "95515                               0                            0   \n",
       "148535                              1                            0   \n",
       "15078                               0                            0   \n",
       "172556                              0                            0   \n",
       "7112                                0                            1   \n",
       "\n",
       "          Neighbhd/Socio-ec Status_S3  Neighbhd/Socio-ec Status_T1  \\\n",
       "CONTROLN                                                             \n",
       "95515                               0                            0   \n",
       "148535                              0                            0   \n",
       "15078                               0                            0   \n",
       "172556                              0                            0   \n",
       "7112                                0                            0   \n",
       "\n",
       "          Neighbhd/Socio-ec Status_T2  Neighbhd/Socio-ec Status_T3  \\\n",
       "CONTROLN                                                             \n",
       "95515                               1                            0   \n",
       "148535                              0                            0   \n",
       "15078                               0                            0   \n",
       "172556                              0                            0   \n",
       "7112                                0                            0   \n",
       "\n",
       "          Neighbhd/Socio-ec Status_U1  Neighbhd/Socio-ec Status_U2  \\\n",
       "CONTROLN                                                             \n",
       "95515                               0                            0   \n",
       "148535                              0                            0   \n",
       "15078                               0                            0   \n",
       "172556                              0                            0   \n",
       "7112                                0                            0   \n",
       "\n",
       "          Neighbhd/Socio-ec Status_U3  Neighbhd/Socio-ec Status_U4  \n",
       "CONTROLN                                                            \n",
       "95515                               0                            0  \n",
       "148535                              0                            0  \n",
       "15078                               0                            0  \n",
       "172556                              0                            0  \n",
       "7112                                0                            0  \n",
       "\n",
       "[5 rows x 112 columns]"
      ]
     },
     "execution_count": 2,
     "metadata": {},
     "output_type": "execute_result"
    }
   ],
   "source": [
    "pproc_df = pd.read_csv('pva97nk_py_preproc_regrssn.csv')\n",
    "pproc_df.set_index('CONTROLN', inplace=True)\n",
    "pproc_df.head()"
   ]
  },
  {
   "cell_type": "markdown",
   "metadata": {},
   "source": [
    "##### SAMPLING"
   ]
  },
  {
   "cell_type": "code",
   "execution_count": 3,
   "metadata": {},
   "outputs": [
    {
     "data": {
      "text/plain": [
       "(95412, 112)"
      ]
     },
     "execution_count": 3,
     "metadata": {},
     "output_type": "execute_result"
    }
   ],
   "source": [
    "pproc_df.shape"
   ]
  },
  {
   "cell_type": "code",
   "execution_count": 4,
   "metadata": {},
   "outputs": [
    {
     "data": {
      "text/plain": [
       "array(['Unnamed: 0', 'Donated to In House', 'Donated to P3',\n",
       "       'Has Planned Giving Record', 'AGE', 'No. of Mail Order Responses',\n",
       "       'Is a major donor', 'Median HomeVal (hundreds)',\n",
       "       'Avg HomeVal (hundreds)', 'Median Rent(hundreds)',\n",
       "       'Avg Rent(hundreds)', 'Median Hshold Incm (hundreds)',\n",
       "       'Median Family Incm (hundreds)', 'Avg Hshold Incm (hundreds)',\n",
       "       'Avg Family Incm (hundreds)', 'Per Capita Income',\n",
       "       'Total Amt (All Gifts)', 'Total No. (All Gifts)',\n",
       "       'Total No. (All Gifts:Promos)', 'Amt (Most Recent Gift)',\n",
       "       '2ndGft-1stGft(months)', 'Avg Amt (All Gifts)',\n",
       "       'Response (97NK Mail)', 'Amt Donated (97NK Mail)', 'CLUSTER_01',\n",
       "       'CLUSTER_02', 'CLUSTER_03', 'CLUSTER_04', 'CLUSTER_05',\n",
       "       'CLUSTER_06', 'CLUSTER_07', 'CLUSTER_08', 'CLUSTER_09',\n",
       "       'CLUSTER_10', 'CLUSTER_11', 'CLUSTER_12', 'CLUSTER_13',\n",
       "       'CLUSTER_14', 'CLUSTER_15', 'CLUSTER_16', 'CLUSTER_17',\n",
       "       'CLUSTER_18', 'CLUSTER_19', 'CLUSTER_20', 'CLUSTER_21',\n",
       "       'CLUSTER_22', 'CLUSTER_23', 'CLUSTER_24', 'CLUSTER_25',\n",
       "       'CLUSTER_26', 'CLUSTER_27', 'CLUSTER_28', 'CLUSTER_29',\n",
       "       'CLUSTER_30', 'CLUSTER_31', 'CLUSTER_32', 'CLUSTER_33',\n",
       "       'CLUSTER_34', 'CLUSTER_35', 'CLUSTER_36', 'CLUSTER_37',\n",
       "       'CLUSTER_38', 'CLUSTER_39', 'CLUSTER_40', 'CLUSTER_41',\n",
       "       'CLUSTER_42', 'CLUSTER_43', 'CLUSTER_44', 'CLUSTER_45',\n",
       "       'CLUSTER_46', 'CLUSTER_47', 'CLUSTER_48', 'CLUSTER_49',\n",
       "       'CLUSTER_50', 'CLUSTER_51', 'CLUSTER_52', 'CLUSTER_53', 'GENDER_A',\n",
       "       'GENDER_C', 'GENDER_F', 'GENDER_J', 'GENDER_M', 'GENDER_U',\n",
       "       'P3 Solicitation Limit_0', 'P3 Solicitation Limit_00',\n",
       "       'P3 Solicitation Limit_01', 'P3 Solicitation Limit_02',\n",
       "       'P3 Solicitation Limit_12', 'In House Solicitation Limit_0',\n",
       "       'In House Solicitation Limit_00', 'In House Solicitation Limit_01',\n",
       "       'In House Solicitation Limit_02', 'In House Solicitation Limit_03',\n",
       "       'In House Solicitation Limit_04', 'In House Solicitation Limit_06',\n",
       "       'In House Solicitation Limit_12', 'Neighbhd/Socio-ec Status_C1',\n",
       "       'Neighbhd/Socio-ec Status_C2', 'Neighbhd/Socio-ec Status_C3',\n",
       "       'Neighbhd/Socio-ec Status_R1', 'Neighbhd/Socio-ec Status_R2',\n",
       "       'Neighbhd/Socio-ec Status_R3', 'Neighbhd/Socio-ec Status_S1',\n",
       "       'Neighbhd/Socio-ec Status_S2', 'Neighbhd/Socio-ec Status_S3',\n",
       "       'Neighbhd/Socio-ec Status_T1', 'Neighbhd/Socio-ec Status_T2',\n",
       "       'Neighbhd/Socio-ec Status_T3', 'Neighbhd/Socio-ec Status_U1',\n",
       "       'Neighbhd/Socio-ec Status_U2', 'Neighbhd/Socio-ec Status_U3',\n",
       "       'Neighbhd/Socio-ec Status_U4'], dtype=object)"
      ]
     },
     "execution_count": 4,
     "metadata": {},
     "output_type": "execute_result"
    }
   ],
   "source": [
    "pproc_df.columns.values"
   ]
  },
  {
   "cell_type": "code",
   "execution_count": 5,
   "metadata": {},
   "outputs": [
    {
     "name": "stdout",
     "output_type": "stream",
     "text": [
      "0    90569\n",
      "1     4843\n",
      "Name: Response (97NK Mail), dtype: int64\n",
      "no response(%) 94.92411855951033\n",
      "response(%) 5.075881440489666\n"
     ]
    }
   ],
   "source": [
    "print(pproc_df['Response (97NK Mail)'].value_counts())\n",
    "\n",
    "print(\"no response(%)\", (1-(pproc_df['Response (97NK Mail)'].sum()/len(pproc_df['Response (97NK Mail)'])))*100)\n",
    "print(\"response(%)\", (pproc_df['Response (97NK Mail)'].sum()/len(pproc_df['Response (97NK Mail)'])*100))"
   ]
  },
  {
   "cell_type": "markdown",
   "metadata": {},
   "source": [
    "To achieve a balanced dataset, I will up-sample the response observations to match the number of no-response observations. A balanced dataset will help us measure more accurately the error metrics of our proposed model/s. If we retain the proportions in our sampling, then a model that simply predicts all observations to be no-response would still be about 95% correct. This is what I am trying to avoid. \n",
    "\n",
    "<p> To get my samples, I will use SMOTE. But before doing so, I will split my dataset into training and validation sets first, and only apply up-sampling for the training dataset."
   ]
  },
  {
   "cell_type": "code",
   "execution_count": 6,
   "metadata": {},
   "outputs": [
    {
     "data": {
      "text/plain": [
       "['AGE']"
      ]
     },
     "execution_count": 6,
     "metadata": {},
     "output_type": "execute_result"
    }
   ],
   "source": [
    "#I'm getting an error about my columns having a nan. So to double-check,\n",
    "\n",
    "pproc_df.columns[pproc_df.isna().any()].tolist()"
   ]
  },
  {
   "cell_type": "code",
   "execution_count": 7,
   "metadata": {},
   "outputs": [
    {
     "data": {
      "text/plain": [
       "1"
      ]
     },
     "execution_count": 7,
     "metadata": {},
     "output_type": "execute_result"
    }
   ],
   "source": [
    "pproc_df['AGE'].isnull().sum()"
   ]
  },
  {
   "cell_type": "code",
   "execution_count": 8,
   "metadata": {},
   "outputs": [
    {
     "data": {
      "text/html": [
       "<div>\n",
       "<style scoped>\n",
       "    .dataframe tbody tr th:only-of-type {\n",
       "        vertical-align: middle;\n",
       "    }\n",
       "\n",
       "    .dataframe tbody tr th {\n",
       "        vertical-align: top;\n",
       "    }\n",
       "\n",
       "    .dataframe thead th {\n",
       "        text-align: right;\n",
       "    }\n",
       "</style>\n",
       "<table border=\"1\" class=\"dataframe\">\n",
       "  <thead>\n",
       "    <tr style=\"text-align: right;\">\n",
       "      <th></th>\n",
       "      <th>Unnamed: 0</th>\n",
       "      <th>Donated to In House</th>\n",
       "      <th>Donated to P3</th>\n",
       "      <th>Has Planned Giving Record</th>\n",
       "      <th>AGE</th>\n",
       "      <th>No. of Mail Order Responses</th>\n",
       "      <th>Is a major donor</th>\n",
       "      <th>Median HomeVal (hundreds)</th>\n",
       "      <th>Avg HomeVal (hundreds)</th>\n",
       "      <th>Median Rent(hundreds)</th>\n",
       "      <th>...</th>\n",
       "      <th>Neighbhd/Socio-ec Status_S1</th>\n",
       "      <th>Neighbhd/Socio-ec Status_S2</th>\n",
       "      <th>Neighbhd/Socio-ec Status_S3</th>\n",
       "      <th>Neighbhd/Socio-ec Status_T1</th>\n",
       "      <th>Neighbhd/Socio-ec Status_T2</th>\n",
       "      <th>Neighbhd/Socio-ec Status_T3</th>\n",
       "      <th>Neighbhd/Socio-ec Status_U1</th>\n",
       "      <th>Neighbhd/Socio-ec Status_U2</th>\n",
       "      <th>Neighbhd/Socio-ec Status_U3</th>\n",
       "      <th>Neighbhd/Socio-ec Status_U4</th>\n",
       "    </tr>\n",
       "    <tr>\n",
       "      <th>CONTROLN</th>\n",
       "      <th></th>\n",
       "      <th></th>\n",
       "      <th></th>\n",
       "      <th></th>\n",
       "      <th></th>\n",
       "      <th></th>\n",
       "      <th></th>\n",
       "      <th></th>\n",
       "      <th></th>\n",
       "      <th></th>\n",
       "      <th></th>\n",
       "      <th></th>\n",
       "      <th></th>\n",
       "      <th></th>\n",
       "      <th></th>\n",
       "      <th></th>\n",
       "      <th></th>\n",
       "      <th></th>\n",
       "      <th></th>\n",
       "      <th></th>\n",
       "      <th></th>\n",
       "    </tr>\n",
       "  </thead>\n",
       "  <tbody>\n",
       "    <tr>\n",
       "      <th>6050</th>\n",
       "      <td>16716</td>\n",
       "      <td>1</td>\n",
       "      <td>1</td>\n",
       "      <td>0</td>\n",
       "      <td>NaN</td>\n",
       "      <td>0</td>\n",
       "      <td>0</td>\n",
       "      <td>691</td>\n",
       "      <td>776</td>\n",
       "      <td>2</td>\n",
       "      <td>...</td>\n",
       "      <td>0</td>\n",
       "      <td>0</td>\n",
       "      <td>0</td>\n",
       "      <td>0</td>\n",
       "      <td>0</td>\n",
       "      <td>0</td>\n",
       "      <td>0</td>\n",
       "      <td>0</td>\n",
       "      <td>0</td>\n",
       "      <td>0</td>\n",
       "    </tr>\n",
       "  </tbody>\n",
       "</table>\n",
       "<p>1 rows × 112 columns</p>\n",
       "</div>"
      ],
      "text/plain": [
       "          Unnamed: 0  Donated to In House  Donated to P3  \\\n",
       "CONTROLN                                                   \n",
       "6050           16716                    1              1   \n",
       "\n",
       "          Has Planned Giving Record  AGE  No. of Mail Order Responses  \\\n",
       "CONTROLN                                                                \n",
       "6050                              0  NaN                            0   \n",
       "\n",
       "          Is a major donor  Median HomeVal (hundreds)  Avg HomeVal (hundreds)  \\\n",
       "CONTROLN                                                                        \n",
       "6050                     0                        691                     776   \n",
       "\n",
       "          Median Rent(hundreds)             ...               \\\n",
       "CONTROLN                                    ...                \n",
       "6050                          2             ...                \n",
       "\n",
       "          Neighbhd/Socio-ec Status_S1  Neighbhd/Socio-ec Status_S2  \\\n",
       "CONTROLN                                                             \n",
       "6050                                0                            0   \n",
       "\n",
       "          Neighbhd/Socio-ec Status_S3  Neighbhd/Socio-ec Status_T1  \\\n",
       "CONTROLN                                                             \n",
       "6050                                0                            0   \n",
       "\n",
       "          Neighbhd/Socio-ec Status_T2  Neighbhd/Socio-ec Status_T3  \\\n",
       "CONTROLN                                                             \n",
       "6050                                0                            0   \n",
       "\n",
       "          Neighbhd/Socio-ec Status_U1  Neighbhd/Socio-ec Status_U2  \\\n",
       "CONTROLN                                                             \n",
       "6050                                0                            0   \n",
       "\n",
       "          Neighbhd/Socio-ec Status_U3  Neighbhd/Socio-ec Status_U4  \n",
       "CONTROLN                                                            \n",
       "6050                                0                            0  \n",
       "\n",
       "[1 rows x 112 columns]"
      ]
     },
     "execution_count": 8,
     "metadata": {},
     "output_type": "execute_result"
    }
   ],
   "source": [
    "pproc_df[pproc_df['AGE'].isnull()]"
   ]
  },
  {
   "cell_type": "code",
   "execution_count": 9,
   "metadata": {},
   "outputs": [],
   "source": [
    "#So weirdly enough, there is one row with a missing value even if I already supposedly imputed all the nans earlier\n",
    "#So again,\n",
    "\n",
    "pproc_df['AGE'].fillna(pproc_df.groupby('Total No. (All Gifts:Promos)')['AGE'].transform('mean'),inplace=True)"
   ]
  },
  {
   "cell_type": "code",
   "execution_count": 10,
   "metadata": {},
   "outputs": [
    {
     "data": {
      "text/plain": [
       "['AGE']"
      ]
     },
     "execution_count": 10,
     "metadata": {},
     "output_type": "execute_result"
    }
   ],
   "source": [
    "pproc_df.columns[pproc_df.isna().any()].tolist()"
   ]
  },
  {
   "cell_type": "code",
   "execution_count": 11,
   "metadata": {},
   "outputs": [],
   "source": [
    "#It's still there so, in the interest of time, I'll just remove it instead of further troubleshooting it\n",
    "\n",
    "pproc_df2 = pproc_df[pproc_df.AGE.notnull()]"
   ]
  },
  {
   "cell_type": "code",
   "execution_count": 12,
   "metadata": {},
   "outputs": [
    {
     "data": {
      "text/plain": [
       "[]"
      ]
     },
     "execution_count": 12,
     "metadata": {},
     "output_type": "execute_result"
    }
   ],
   "source": [
    "pproc_df2.columns[pproc_df2.isna().any()].tolist()"
   ]
  },
  {
   "cell_type": "code",
   "execution_count": 13,
   "metadata": {},
   "outputs": [
    {
     "data": {
      "text/html": [
       "<div>\n",
       "<style scoped>\n",
       "    .dataframe tbody tr th:only-of-type {\n",
       "        vertical-align: middle;\n",
       "    }\n",
       "\n",
       "    .dataframe tbody tr th {\n",
       "        vertical-align: top;\n",
       "    }\n",
       "\n",
       "    .dataframe thead th {\n",
       "        text-align: right;\n",
       "    }\n",
       "</style>\n",
       "<table border=\"1\" class=\"dataframe\">\n",
       "  <thead>\n",
       "    <tr style=\"text-align: right;\">\n",
       "      <th></th>\n",
       "      <th>Unnamed: 0</th>\n",
       "      <th>Donated to In House</th>\n",
       "      <th>Donated to P3</th>\n",
       "      <th>Has Planned Giving Record</th>\n",
       "      <th>AGE</th>\n",
       "      <th>No. of Mail Order Responses</th>\n",
       "      <th>Is a major donor</th>\n",
       "      <th>Median HomeVal (hundreds)</th>\n",
       "      <th>Avg HomeVal (hundreds)</th>\n",
       "      <th>Median Rent(hundreds)</th>\n",
       "      <th>...</th>\n",
       "      <th>Neighbhd/Socio-ec Status_S1</th>\n",
       "      <th>Neighbhd/Socio-ec Status_S2</th>\n",
       "      <th>Neighbhd/Socio-ec Status_S3</th>\n",
       "      <th>Neighbhd/Socio-ec Status_T1</th>\n",
       "      <th>Neighbhd/Socio-ec Status_T2</th>\n",
       "      <th>Neighbhd/Socio-ec Status_T3</th>\n",
       "      <th>Neighbhd/Socio-ec Status_U1</th>\n",
       "      <th>Neighbhd/Socio-ec Status_U2</th>\n",
       "      <th>Neighbhd/Socio-ec Status_U3</th>\n",
       "      <th>Neighbhd/Socio-ec Status_U4</th>\n",
       "    </tr>\n",
       "    <tr>\n",
       "      <th>CONTROLN</th>\n",
       "      <th></th>\n",
       "      <th></th>\n",
       "      <th></th>\n",
       "      <th></th>\n",
       "      <th></th>\n",
       "      <th></th>\n",
       "      <th></th>\n",
       "      <th></th>\n",
       "      <th></th>\n",
       "      <th></th>\n",
       "      <th></th>\n",
       "      <th></th>\n",
       "      <th></th>\n",
       "      <th></th>\n",
       "      <th></th>\n",
       "      <th></th>\n",
       "      <th></th>\n",
       "      <th></th>\n",
       "      <th></th>\n",
       "      <th></th>\n",
       "      <th></th>\n",
       "    </tr>\n",
       "  </thead>\n",
       "  <tbody>\n",
       "  </tbody>\n",
       "</table>\n",
       "<p>0 rows × 112 columns</p>\n",
       "</div>"
      ],
      "text/plain": [
       "Empty DataFrame\n",
       "Columns: [Unnamed: 0, Donated to In House, Donated to P3, Has Planned Giving Record, AGE, No. of Mail Order Responses, Is a major donor, Median HomeVal (hundreds), Avg HomeVal (hundreds), Median Rent(hundreds), Avg Rent(hundreds), Median Hshold Incm (hundreds), Median Family Incm (hundreds), Avg Hshold Incm (hundreds), Avg Family Incm (hundreds), Per Capita Income, Total Amt (All Gifts), Total No. (All Gifts), Total No. (All Gifts:Promos), Amt (Most Recent Gift), 2ndGft-1stGft(months), Avg Amt (All Gifts), Response (97NK Mail), Amt Donated (97NK Mail), CLUSTER_01, CLUSTER_02, CLUSTER_03, CLUSTER_04, CLUSTER_05, CLUSTER_06, CLUSTER_07, CLUSTER_08, CLUSTER_09, CLUSTER_10, CLUSTER_11, CLUSTER_12, CLUSTER_13, CLUSTER_14, CLUSTER_15, CLUSTER_16, CLUSTER_17, CLUSTER_18, CLUSTER_19, CLUSTER_20, CLUSTER_21, CLUSTER_22, CLUSTER_23, CLUSTER_24, CLUSTER_25, CLUSTER_26, CLUSTER_27, CLUSTER_28, CLUSTER_29, CLUSTER_30, CLUSTER_31, CLUSTER_32, CLUSTER_33, CLUSTER_34, CLUSTER_35, CLUSTER_36, CLUSTER_37, CLUSTER_38, CLUSTER_39, CLUSTER_40, CLUSTER_41, CLUSTER_42, CLUSTER_43, CLUSTER_44, CLUSTER_45, CLUSTER_46, CLUSTER_47, CLUSTER_48, CLUSTER_49, CLUSTER_50, CLUSTER_51, CLUSTER_52, CLUSTER_53, GENDER_A, GENDER_C, GENDER_F, GENDER_J, GENDER_M, GENDER_U, P3 Solicitation Limit_0, P3 Solicitation Limit_00, P3 Solicitation Limit_01, P3 Solicitation Limit_02, P3 Solicitation Limit_12, In House Solicitation Limit_0, In House Solicitation Limit_00, In House Solicitation Limit_01, In House Solicitation Limit_02, In House Solicitation Limit_03, In House Solicitation Limit_04, In House Solicitation Limit_06, In House Solicitation Limit_12, Neighbhd/Socio-ec Status_C1, Neighbhd/Socio-ec Status_C2, Neighbhd/Socio-ec Status_C3, Neighbhd/Socio-ec Status_R1, ...]\n",
       "Index: []\n",
       "\n",
       "[0 rows x 112 columns]"
      ]
     },
     "execution_count": 13,
     "metadata": {},
     "output_type": "execute_result"
    }
   ],
   "source": [
    "pproc_df2[pproc_df2['AGE'].isnull()]"
   ]
  },
  {
   "cell_type": "code",
   "execution_count": 14,
   "metadata": {},
   "outputs": [],
   "source": [
    "target_etc_vars = ['Response (97NK Mail)', 'Amt Donated (97NK Mail)','Unnamed: 0']\n",
    "X = pproc_df2.loc[:, ~pproc_df2.columns.isin(target_etc_vars)]\n",
    "y = pproc_df2['Response (97NK Mail)']"
   ]
  },
  {
   "cell_type": "code",
   "execution_count": 15,
   "metadata": {},
   "outputs": [],
   "source": [
    "from sklearn.model_selection import train_test_split\n",
    "\n",
    "X_train, X_val, y_train, y_val = train_test_split(X, y, test_size = 0.4, random_state=0)"
   ]
  },
  {
   "cell_type": "code",
   "execution_count": 16,
   "metadata": {},
   "outputs": [],
   "source": [
    "from imblearn.over_sampling import SMOTE\n",
    "\n",
    "sm = SMOTE(random_state=0)\n",
    "sm_X_train, sm_y_train = sm.fit_sample(X_train, y_train)"
   ]
  },
  {
   "cell_type": "code",
   "execution_count": 17,
   "metadata": {},
   "outputs": [
    {
     "name": "stdout",
     "output_type": "stream",
     "text": [
      "total oversampled data:  108746\n",
      "total no response in oversampled data:  54373\n",
      "total response in oversampled data:  54373\n",
      "no response(%):  0.5\n",
      "response(%):  0.5\n"
     ]
    }
   ],
   "source": [
    "df_sm_X_train = pd.DataFrame(data=sm_X_train,columns=X_train.columns)\n",
    "df_sm_y_train = pd.DataFrame(data=sm_y_train,columns=['Response (97NK Mail)'])\n",
    "\n",
    "print(\"total oversampled data: \",len(df_sm_X_train))\n",
    "print(\"total no response in oversampled data: \",len(df_sm_y_train[df_sm_y_train['Response (97NK Mail)']==0]))\n",
    "print(\"total response in oversampled data: \",len(df_sm_y_train[df_sm_y_train['Response (97NK Mail)']==1]))\n",
    "print(\"no response(%): \",len(df_sm_y_train[df_sm_y_train['Response (97NK Mail)']==0])/len(df_sm_X_train))\n",
    "print(\"response(%): \",len(df_sm_y_train[df_sm_y_train['Response (97NK Mail)']==1])/len(df_sm_X_train))"
   ]
  },
  {
   "cell_type": "markdown",
   "metadata": {},
   "source": [
    "##### VARIABLE SELECTION "
   ]
  },
  {
   "cell_type": "markdown",
   "metadata": {},
   "source": [
    "Next, I will look at possible redundancies and multicollinearity to ensure independence between input variables in the dataset "
   ]
  },
  {
   "cell_type": "code",
   "execution_count": 18,
   "metadata": {},
   "outputs": [],
   "source": [
    "pproc_df.reset_index(inplace=True)\n",
    "df_index = pd.DataFrame(data=pproc_df, columns=['CONTROLN'])\n",
    "\n",
    "df_sm_Xy_train = df_sm_X_train.join(df_sm_y_train.join(df_index, lsuffix='_sm_y_train', rsuffix='_controln'),\n",
    "                                    rsuffix='_sm_y_train', lsuffix='_sm_X_train')"
   ]
  },
  {
   "cell_type": "code",
   "execution_count": 19,
   "metadata": {},
   "outputs": [
    {
     "data": {
      "text/plain": [
       "110"
      ]
     },
     "execution_count": 19,
     "metadata": {},
     "output_type": "execute_result"
    }
   ],
   "source": [
    "df_sm_Xy_train.set_index('CONTROLN', inplace=True)\n",
    "len(df_sm_Xy_train.columns.values)"
   ]
  },
  {
   "cell_type": "code",
   "execution_count": 20,
   "metadata": {},
   "outputs": [],
   "source": [
    "#Run correlation matrix\n",
    "\n",
    "#colormap = plt.cm.RdBu\n",
    "#plt.figure(figsize=(30,30))\n",
    "#plt.title('Pearson Correlation of Features', y=1.05, size=15)\n",
    "#sns.heatmap(df_sm_Xy_train.corr(),linewidths=0.1,vmax=1.0, \n",
    "#            square=True, cmap=colormap, linecolor='white', annot=True)"
   ]
  },
  {
   "cell_type": "code",
   "execution_count": 21,
   "metadata": {},
   "outputs": [
    {
     "data": {
      "text/plain": [
       "Index(['Donated to In House', 'Donated to P3', 'Has Planned Giving Record',\n",
       "       'AGE', 'No. of Mail Order Responses', 'Is a major donor',\n",
       "       'Median HomeVal (hundreds)', 'Avg HomeVal (hundreds)',\n",
       "       'Median Rent(hundreds)', 'Avg Rent(hundreds)',\n",
       "       'Median Hshold Incm (hundreds)', 'Median Family Incm (hundreds)',\n",
       "       'Avg Hshold Incm (hundreds)', 'Avg Family Incm (hundreds)',\n",
       "       'Per Capita Income', 'Total Amt (All Gifts)', 'Total No. (All Gifts)',\n",
       "       'Total No. (All Gifts:Promos)', 'Amt (Most Recent Gift)',\n",
       "       '2ndGft-1stGft(months)', 'Avg Amt (All Gifts)'],\n",
       "      dtype='object')"
      ]
     },
     "execution_count": 21,
     "metadata": {},
     "output_type": "execute_result"
    }
   ],
   "source": [
    "df_sm_Xy_train.columns[0:21]"
   ]
  },
  {
   "cell_type": "code",
   "execution_count": 22,
   "metadata": {},
   "outputs": [
    {
     "name": "stderr",
     "output_type": "stream",
     "text": [
      "c:\\users\\monica aguilar\\appdata\\local\\programs\\python\\python37-32\\lib\\site-packages\\ipykernel_launcher.py:7: SettingWithCopyWarning: \n",
      "A value is trying to be set on a copy of a slice from a DataFrame.\n",
      "Try using .loc[row_indexer,col_indexer] = value instead\n",
      "\n",
      "See the caveats in the documentation: http://pandas.pydata.org/pandas-docs/stable/indexing.html#indexing-view-versus-copy\n",
      "  import sys\n"
     ]
    }
   ],
   "source": [
    "#Calculate Variance Inflation Factor\n",
    "\n",
    "import statsmodels.api as sm\n",
    "from statsmodels.stats.outliers_influence import variance_inflation_factor\n",
    "\n",
    "df_sm_Xy_train_2 = df_sm_Xy_train[df_sm_Xy_train.columns[0:21]] #excludes all the dummified variables\n",
    "df_sm_Xy_train_2['ones'] = 1 #to avoid the issue here: https://stackoverflow.com/questions/42658379/variance-inflation-factor-in-python\n",
    "\n",
    "vif = pd.DataFrame()\n",
    "vif[\"VIF Factor\"] = [variance_inflation_factor(df_sm_Xy_train_2.values, i) for i in range(df_sm_Xy_train_2.shape[1])]\n",
    "vif[\"features\"] = df_sm_Xy_train_2.columns"
   ]
  },
  {
   "cell_type": "code",
   "execution_count": 23,
   "metadata": {},
   "outputs": [
    {
     "data": {
      "text/html": [
       "<div>\n",
       "<style scoped>\n",
       "    .dataframe tbody tr th:only-of-type {\n",
       "        vertical-align: middle;\n",
       "    }\n",
       "\n",
       "    .dataframe tbody tr th {\n",
       "        vertical-align: top;\n",
       "    }\n",
       "\n",
       "    .dataframe thead th {\n",
       "        text-align: right;\n",
       "    }\n",
       "</style>\n",
       "<table border=\"1\" class=\"dataframe\">\n",
       "  <thead>\n",
       "    <tr style=\"text-align: right;\">\n",
       "      <th></th>\n",
       "      <th>VIF Factor</th>\n",
       "      <th>features</th>\n",
       "    </tr>\n",
       "  </thead>\n",
       "  <tbody>\n",
       "    <tr>\n",
       "      <th>0</th>\n",
       "      <td>1.190487</td>\n",
       "      <td>Donated to In House</td>\n",
       "    </tr>\n",
       "    <tr>\n",
       "      <th>1</th>\n",
       "      <td>1.033342</td>\n",
       "      <td>Donated to P3</td>\n",
       "    </tr>\n",
       "    <tr>\n",
       "      <th>2</th>\n",
       "      <td>1.084891</td>\n",
       "      <td>Has Planned Giving Record</td>\n",
       "    </tr>\n",
       "    <tr>\n",
       "      <th>3</th>\n",
       "      <td>1.158587</td>\n",
       "      <td>AGE</td>\n",
       "    </tr>\n",
       "    <tr>\n",
       "      <th>4</th>\n",
       "      <td>1.027201</td>\n",
       "      <td>No. of Mail Order Responses</td>\n",
       "    </tr>\n",
       "    <tr>\n",
       "      <th>5</th>\n",
       "      <td>1.332693</td>\n",
       "      <td>Is a major donor</td>\n",
       "    </tr>\n",
       "    <tr>\n",
       "      <th>6</th>\n",
       "      <td>106.298040</td>\n",
       "      <td>Median HomeVal (hundreds)</td>\n",
       "    </tr>\n",
       "    <tr>\n",
       "      <th>7</th>\n",
       "      <td>112.572026</td>\n",
       "      <td>Avg HomeVal (hundreds)</td>\n",
       "    </tr>\n",
       "    <tr>\n",
       "      <th>8</th>\n",
       "      <td>13.044557</td>\n",
       "      <td>Median Rent(hundreds)</td>\n",
       "    </tr>\n",
       "    <tr>\n",
       "      <th>9</th>\n",
       "      <td>10.516507</td>\n",
       "      <td>Avg Rent(hundreds)</td>\n",
       "    </tr>\n",
       "    <tr>\n",
       "      <th>10</th>\n",
       "      <td>61.659758</td>\n",
       "      <td>Median Hshold Incm (hundreds)</td>\n",
       "    </tr>\n",
       "    <tr>\n",
       "      <th>11</th>\n",
       "      <td>53.983893</td>\n",
       "      <td>Median Family Incm (hundreds)</td>\n",
       "    </tr>\n",
       "    <tr>\n",
       "      <th>12</th>\n",
       "      <td>109.040002</td>\n",
       "      <td>Avg Hshold Incm (hundreds)</td>\n",
       "    </tr>\n",
       "    <tr>\n",
       "      <th>13</th>\n",
       "      <td>86.597620</td>\n",
       "      <td>Avg Family Incm (hundreds)</td>\n",
       "    </tr>\n",
       "    <tr>\n",
       "      <th>14</th>\n",
       "      <td>5.688700</td>\n",
       "      <td>Per Capita Income</td>\n",
       "    </tr>\n",
       "    <tr>\n",
       "      <th>15</th>\n",
       "      <td>3.200847</td>\n",
       "      <td>Total Amt (All Gifts)</td>\n",
       "    </tr>\n",
       "    <tr>\n",
       "      <th>16</th>\n",
       "      <td>9.037131</td>\n",
       "      <td>Total No. (All Gifts)</td>\n",
       "    </tr>\n",
       "    <tr>\n",
       "      <th>17</th>\n",
       "      <td>6.596543</td>\n",
       "      <td>Total No. (All Gifts:Promos)</td>\n",
       "    </tr>\n",
       "    <tr>\n",
       "      <th>18</th>\n",
       "      <td>2.758022</td>\n",
       "      <td>Amt (Most Recent Gift)</td>\n",
       "    </tr>\n",
       "    <tr>\n",
       "      <th>19</th>\n",
       "      <td>1.014935</td>\n",
       "      <td>2ndGft-1stGft(months)</td>\n",
       "    </tr>\n",
       "    <tr>\n",
       "      <th>20</th>\n",
       "      <td>3.472402</td>\n",
       "      <td>Avg Amt (All Gifts)</td>\n",
       "    </tr>\n",
       "    <tr>\n",
       "      <th>21</th>\n",
       "      <td>40.819402</td>\n",
       "      <td>ones</td>\n",
       "    </tr>\n",
       "  </tbody>\n",
       "</table>\n",
       "</div>"
      ],
      "text/plain": [
       "    VIF Factor                       features\n",
       "0     1.190487            Donated to In House\n",
       "1     1.033342                  Donated to P3\n",
       "2     1.084891      Has Planned Giving Record\n",
       "3     1.158587                            AGE\n",
       "4     1.027201    No. of Mail Order Responses\n",
       "5     1.332693               Is a major donor\n",
       "6   106.298040      Median HomeVal (hundreds)\n",
       "7   112.572026         Avg HomeVal (hundreds)\n",
       "8    13.044557          Median Rent(hundreds)\n",
       "9    10.516507             Avg Rent(hundreds)\n",
       "10   61.659758  Median Hshold Incm (hundreds)\n",
       "11   53.983893  Median Family Incm (hundreds)\n",
       "12  109.040002     Avg Hshold Incm (hundreds)\n",
       "13   86.597620     Avg Family Incm (hundreds)\n",
       "14    5.688700              Per Capita Income\n",
       "15    3.200847          Total Amt (All Gifts)\n",
       "16    9.037131          Total No. (All Gifts)\n",
       "17    6.596543   Total No. (All Gifts:Promos)\n",
       "18    2.758022         Amt (Most Recent Gift)\n",
       "19    1.014935          2ndGft-1stGft(months)\n",
       "20    3.472402            Avg Amt (All Gifts)\n",
       "21   40.819402                           ones"
      ]
     },
     "execution_count": 23,
     "metadata": {},
     "output_type": "execute_result"
    }
   ],
   "source": [
    "vif\n",
    "\n",
    "#issue mentioned above does not seem to affect the vif, whether there are ones or none (I ran both)"
   ]
  },
  {
   "cell_type": "code",
   "execution_count": 24,
   "metadata": {},
   "outputs": [],
   "source": [
    "#saving a reference file so I won't need to run again in the future\n",
    "\n",
    "vif_csv = vif.to_csv('D:\\Python Stuff\\pva97nk_py_train_vif.csv')"
   ]
  },
  {
   "cell_type": "markdown",
   "metadata": {},
   "source": [
    "Let's study all non-dummified variables with VIF > 5 and choose which ones to retain:"
   ]
  },
  {
   "cell_type": "code",
   "execution_count": 25,
   "metadata": {},
   "outputs": [
    {
     "data": {
      "text/html": [
       "<div>\n",
       "<style scoped>\n",
       "    .dataframe tbody tr th:only-of-type {\n",
       "        vertical-align: middle;\n",
       "    }\n",
       "\n",
       "    .dataframe tbody tr th {\n",
       "        vertical-align: top;\n",
       "    }\n",
       "\n",
       "    .dataframe thead th {\n",
       "        text-align: right;\n",
       "    }\n",
       "</style>\n",
       "<table border=\"1\" class=\"dataframe\">\n",
       "  <thead>\n",
       "    <tr style=\"text-align: right;\">\n",
       "      <th></th>\n",
       "      <th>VIF Factor</th>\n",
       "      <th>features</th>\n",
       "    </tr>\n",
       "  </thead>\n",
       "  <tbody>\n",
       "    <tr>\n",
       "      <th>6</th>\n",
       "      <td>106.298040</td>\n",
       "      <td>Median HomeVal (hundreds)</td>\n",
       "    </tr>\n",
       "    <tr>\n",
       "      <th>7</th>\n",
       "      <td>112.572026</td>\n",
       "      <td>Avg HomeVal (hundreds)</td>\n",
       "    </tr>\n",
       "    <tr>\n",
       "      <th>8</th>\n",
       "      <td>13.044557</td>\n",
       "      <td>Median Rent(hundreds)</td>\n",
       "    </tr>\n",
       "    <tr>\n",
       "      <th>9</th>\n",
       "      <td>10.516507</td>\n",
       "      <td>Avg Rent(hundreds)</td>\n",
       "    </tr>\n",
       "    <tr>\n",
       "      <th>10</th>\n",
       "      <td>61.659758</td>\n",
       "      <td>Median Hshold Incm (hundreds)</td>\n",
       "    </tr>\n",
       "    <tr>\n",
       "      <th>11</th>\n",
       "      <td>53.983893</td>\n",
       "      <td>Median Family Incm (hundreds)</td>\n",
       "    </tr>\n",
       "    <tr>\n",
       "      <th>12</th>\n",
       "      <td>109.040002</td>\n",
       "      <td>Avg Hshold Incm (hundreds)</td>\n",
       "    </tr>\n",
       "    <tr>\n",
       "      <th>13</th>\n",
       "      <td>86.597620</td>\n",
       "      <td>Avg Family Incm (hundreds)</td>\n",
       "    </tr>\n",
       "    <tr>\n",
       "      <th>14</th>\n",
       "      <td>5.688700</td>\n",
       "      <td>Per Capita Income</td>\n",
       "    </tr>\n",
       "    <tr>\n",
       "      <th>16</th>\n",
       "      <td>9.037131</td>\n",
       "      <td>Total No. (All Gifts)</td>\n",
       "    </tr>\n",
       "    <tr>\n",
       "      <th>17</th>\n",
       "      <td>6.596543</td>\n",
       "      <td>Total No. (All Gifts:Promos)</td>\n",
       "    </tr>\n",
       "    <tr>\n",
       "      <th>21</th>\n",
       "      <td>40.819402</td>\n",
       "      <td>ones</td>\n",
       "    </tr>\n",
       "  </tbody>\n",
       "</table>\n",
       "</div>"
      ],
      "text/plain": [
       "    VIF Factor                       features\n",
       "6   106.298040      Median HomeVal (hundreds)\n",
       "7   112.572026         Avg HomeVal (hundreds)\n",
       "8    13.044557          Median Rent(hundreds)\n",
       "9    10.516507             Avg Rent(hundreds)\n",
       "10   61.659758  Median Hshold Incm (hundreds)\n",
       "11   53.983893  Median Family Incm (hundreds)\n",
       "12  109.040002     Avg Hshold Incm (hundreds)\n",
       "13   86.597620     Avg Family Incm (hundreds)\n",
       "14    5.688700              Per Capita Income\n",
       "16    9.037131          Total No. (All Gifts)\n",
       "17    6.596543   Total No. (All Gifts:Promos)\n",
       "21   40.819402                           ones"
      ]
     },
     "execution_count": 25,
     "metadata": {},
     "output_type": "execute_result"
    }
   ],
   "source": [
    "filtervif = vif[(vif[\"VIF Factor\"] > 5) & (vif[\"VIF Factor\"] != np.inf)]\n",
    "filtervif"
   ]
  },
  {
   "cell_type": "markdown",
   "metadata": {},
   "source": [
    "I will retain Median Family Incm (hundreds) and remove Avgs (incl Per Capita Income) to make the dataset more robust to outliers. Both Median HomeVal(hundreds) and Median Rent(hundreds) are approximations of wealth, but Median Family Incm can represent that. Median Family Incm seems to be a better measure of wealth since some households may have more than one family. I will also retain Total No. (All Gifts:Promos) since this ratio captures willingness to respond to promos vs a simple total amount of all gifts.\n",
    "<p>These further variable selections will be applied to the entire dataset, so that when we test the model later on, it will be comparable and efficient."
   ]
  },
  {
   "cell_type": "code",
   "execution_count": 26,
   "metadata": {},
   "outputs": [],
   "source": [
    "#df_y_val = pd.DataFrame(y_val)\n",
    "#df_Xy_val = X_val.join(df_y_val.join(df_index, lsuffix='_y_val', rsuffix='_controln'),\n",
    "#                                    rsuffix='_y_val', lsuffix='_X_val')"
   ]
  },
  {
   "cell_type": "code",
   "execution_count": 27,
   "metadata": {},
   "outputs": [],
   "source": [
    "#df_Xy_val.set_index('CONTROLN', inplace=True)"
   ]
  },
  {
   "cell_type": "code",
   "execution_count": 28,
   "metadata": {},
   "outputs": [],
   "source": [
    "df_sm_Xy_train_drp = df_sm_Xy_train.drop(['Avg HomeVal (hundreds)','Avg Rent(hundreds)','Median Hshold Incm (hundreds)',\n",
    "                                          'Avg Hshold Incm (hundreds)','Avg Family Incm (hundreds)',\n",
    "                                          'Total No. (All Gifts)','Per Capita Income','Median Rent(hundreds)',\n",
    "                                         'Median HomeVal (hundreds)'], axis=1)\n",
    "#df_Xy_val_drp = df_Xy_val.drop(['Avg HomeVal (hundreds)','Avg Rent(hundreds)','Avg Hshold Incm (hundreds)',\n",
    "#                                         'Avg Family Incm (hundreds)','Total No. (All Gifts)'], axis=1)"
   ]
  },
  {
   "cell_type": "code",
   "execution_count": 29,
   "metadata": {},
   "outputs": [
    {
     "data": {
      "text/plain": [
       "array(['Donated to In House', 'Donated to P3',\n",
       "       'Has Planned Giving Record', 'AGE', 'No. of Mail Order Responses',\n",
       "       'Is a major donor', 'Median Family Incm (hundreds)',\n",
       "       'Total Amt (All Gifts)', 'Total No. (All Gifts:Promos)',\n",
       "       'Amt (Most Recent Gift)', '2ndGft-1stGft(months)',\n",
       "       'Avg Amt (All Gifts)', 'CLUSTER_01', 'CLUSTER_02', 'CLUSTER_03',\n",
       "       'CLUSTER_04', 'CLUSTER_05', 'CLUSTER_06', 'CLUSTER_07',\n",
       "       'CLUSTER_08', 'CLUSTER_09', 'CLUSTER_10', 'CLUSTER_11',\n",
       "       'CLUSTER_12', 'CLUSTER_13', 'CLUSTER_14', 'CLUSTER_15',\n",
       "       'CLUSTER_16', 'CLUSTER_17', 'CLUSTER_18', 'CLUSTER_19',\n",
       "       'CLUSTER_20', 'CLUSTER_21', 'CLUSTER_22', 'CLUSTER_23',\n",
       "       'CLUSTER_24', 'CLUSTER_25', 'CLUSTER_26', 'CLUSTER_27',\n",
       "       'CLUSTER_28', 'CLUSTER_29', 'CLUSTER_30', 'CLUSTER_31',\n",
       "       'CLUSTER_32', 'CLUSTER_33', 'CLUSTER_34', 'CLUSTER_35',\n",
       "       'CLUSTER_36', 'CLUSTER_37', 'CLUSTER_38', 'CLUSTER_39',\n",
       "       'CLUSTER_40', 'CLUSTER_41', 'CLUSTER_42', 'CLUSTER_43',\n",
       "       'CLUSTER_44', 'CLUSTER_45', 'CLUSTER_46', 'CLUSTER_47',\n",
       "       'CLUSTER_48', 'CLUSTER_49', 'CLUSTER_50', 'CLUSTER_51',\n",
       "       'CLUSTER_52', 'CLUSTER_53', 'GENDER_A', 'GENDER_C', 'GENDER_F',\n",
       "       'GENDER_J', 'GENDER_M', 'GENDER_U', 'P3 Solicitation Limit_0',\n",
       "       'P3 Solicitation Limit_00', 'P3 Solicitation Limit_01',\n",
       "       'P3 Solicitation Limit_02', 'P3 Solicitation Limit_12',\n",
       "       'In House Solicitation Limit_0', 'In House Solicitation Limit_00',\n",
       "       'In House Solicitation Limit_01', 'In House Solicitation Limit_02',\n",
       "       'In House Solicitation Limit_03', 'In House Solicitation Limit_04',\n",
       "       'In House Solicitation Limit_06', 'In House Solicitation Limit_12',\n",
       "       'Neighbhd/Socio-ec Status_C1', 'Neighbhd/Socio-ec Status_C2',\n",
       "       'Neighbhd/Socio-ec Status_C3', 'Neighbhd/Socio-ec Status_R1',\n",
       "       'Neighbhd/Socio-ec Status_R2', 'Neighbhd/Socio-ec Status_R3',\n",
       "       'Neighbhd/Socio-ec Status_S1', 'Neighbhd/Socio-ec Status_S2',\n",
       "       'Neighbhd/Socio-ec Status_S3', 'Neighbhd/Socio-ec Status_T1',\n",
       "       'Neighbhd/Socio-ec Status_T2', 'Neighbhd/Socio-ec Status_T3',\n",
       "       'Neighbhd/Socio-ec Status_U1', 'Neighbhd/Socio-ec Status_U2',\n",
       "       'Neighbhd/Socio-ec Status_U3', 'Neighbhd/Socio-ec Status_U4',\n",
       "       'Response (97NK Mail)'], dtype=object)"
      ]
     },
     "execution_count": 29,
     "metadata": {},
     "output_type": "execute_result"
    }
   ],
   "source": [
    "df_sm_Xy_train_drp.columns.values"
   ]
  },
  {
   "cell_type": "code",
   "execution_count": 30,
   "metadata": {},
   "outputs": [
    {
     "name": "stderr",
     "output_type": "stream",
     "text": [
      "c:\\users\\monica aguilar\\appdata\\local\\programs\\python\\python37-32\\lib\\site-packages\\ipykernel_launcher.py:4: SettingWithCopyWarning: \n",
      "A value is trying to be set on a copy of a slice from a DataFrame.\n",
      "Try using .loc[row_indexer,col_indexer] = value instead\n",
      "\n",
      "See the caveats in the documentation: http://pandas.pydata.org/pandas-docs/stable/indexing.html#indexing-view-versus-copy\n",
      "  after removing the cwd from sys.path.\n"
     ]
    },
    {
     "data": {
      "text/html": [
       "<div>\n",
       "<style scoped>\n",
       "    .dataframe tbody tr th:only-of-type {\n",
       "        vertical-align: middle;\n",
       "    }\n",
       "\n",
       "    .dataframe tbody tr th {\n",
       "        vertical-align: top;\n",
       "    }\n",
       "\n",
       "    .dataframe thead th {\n",
       "        text-align: right;\n",
       "    }\n",
       "</style>\n",
       "<table border=\"1\" class=\"dataframe\">\n",
       "  <thead>\n",
       "    <tr style=\"text-align: right;\">\n",
       "      <th></th>\n",
       "      <th>VIF Factor</th>\n",
       "      <th>features</th>\n",
       "    </tr>\n",
       "  </thead>\n",
       "  <tbody>\n",
       "    <tr>\n",
       "      <th>0</th>\n",
       "      <td>1.135595</td>\n",
       "      <td>Donated to In House</td>\n",
       "    </tr>\n",
       "    <tr>\n",
       "      <th>1</th>\n",
       "      <td>1.024621</td>\n",
       "      <td>Donated to P3</td>\n",
       "    </tr>\n",
       "    <tr>\n",
       "      <th>2</th>\n",
       "      <td>1.083903</td>\n",
       "      <td>Has Planned Giving Record</td>\n",
       "    </tr>\n",
       "    <tr>\n",
       "      <th>3</th>\n",
       "      <td>1.123619</td>\n",
       "      <td>AGE</td>\n",
       "    </tr>\n",
       "    <tr>\n",
       "      <th>4</th>\n",
       "      <td>1.024062</td>\n",
       "      <td>No. of Mail Order Responses</td>\n",
       "    </tr>\n",
       "    <tr>\n",
       "      <th>5</th>\n",
       "      <td>1.318655</td>\n",
       "      <td>Is a major donor</td>\n",
       "    </tr>\n",
       "    <tr>\n",
       "      <th>6</th>\n",
       "      <td>1.023531</td>\n",
       "      <td>Median Family Incm (hundreds)</td>\n",
       "    </tr>\n",
       "    <tr>\n",
       "      <th>7</th>\n",
       "      <td>2.448033</td>\n",
       "      <td>Total Amt (All Gifts)</td>\n",
       "    </tr>\n",
       "    <tr>\n",
       "      <th>8</th>\n",
       "      <td>2.032656</td>\n",
       "      <td>Total No. (All Gifts:Promos)</td>\n",
       "    </tr>\n",
       "    <tr>\n",
       "      <th>9</th>\n",
       "      <td>2.755227</td>\n",
       "      <td>Amt (Most Recent Gift)</td>\n",
       "    </tr>\n",
       "    <tr>\n",
       "      <th>10</th>\n",
       "      <td>1.010930</td>\n",
       "      <td>2ndGft-1stGft(months)</td>\n",
       "    </tr>\n",
       "    <tr>\n",
       "      <th>11</th>\n",
       "      <td>3.280972</td>\n",
       "      <td>Avg Amt (All Gifts)</td>\n",
       "    </tr>\n",
       "    <tr>\n",
       "      <th>12</th>\n",
       "      <td>34.032230</td>\n",
       "      <td>ones</td>\n",
       "    </tr>\n",
       "  </tbody>\n",
       "</table>\n",
       "</div>"
      ],
      "text/plain": [
       "    VIF Factor                       features\n",
       "0     1.135595            Donated to In House\n",
       "1     1.024621                  Donated to P3\n",
       "2     1.083903      Has Planned Giving Record\n",
       "3     1.123619                            AGE\n",
       "4     1.024062    No. of Mail Order Responses\n",
       "5     1.318655               Is a major donor\n",
       "6     1.023531  Median Family Incm (hundreds)\n",
       "7     2.448033          Total Amt (All Gifts)\n",
       "8     2.032656   Total No. (All Gifts:Promos)\n",
       "9     2.755227         Amt (Most Recent Gift)\n",
       "10    1.010930          2ndGft-1stGft(months)\n",
       "11    3.280972            Avg Amt (All Gifts)\n",
       "12   34.032230                           ones"
      ]
     },
     "execution_count": 30,
     "metadata": {},
     "output_type": "execute_result"
    }
   ],
   "source": [
    "#But before re-sampling I will re-check the VIF again, just to be sure\n",
    "\n",
    "df_sm_Xy_train_drp2 = df_sm_Xy_train_drp[df_sm_Xy_train_drp.columns[0:12]]\n",
    "df_sm_Xy_train_drp2['ones'] = 1\n",
    "\n",
    "vif2 = pd.DataFrame()\n",
    "vif2[\"VIF Factor\"] = [variance_inflation_factor(df_sm_Xy_train_drp2.values, i) for i in range(df_sm_Xy_train_drp2.shape[1])]\n",
    "vif2[\"features\"] = df_sm_Xy_train_drp2.columns\n",
    "vif2"
   ]
  },
  {
   "cell_type": "markdown",
   "metadata": {},
   "source": [
    "This time around, the \"ones\" had an effect on the VIF."
   ]
  },
  {
   "cell_type": "markdown",
   "metadata": {},
   "source": [
    "The final columns are now going to be everything in df_sm_Xy_train_drp.columns.values"
   ]
  },
  {
   "cell_type": "markdown",
   "metadata": {},
   "source": [
    "##### SAMPLING v2"
   ]
  },
  {
   "cell_type": "markdown",
   "metadata": {},
   "source": [
    "Important note for documentation purposes: My first run of the logistic regression is bad (only 57% accuracy). I will try to re-run without the dummified variables and see if it makes a difference."
   ]
  },
  {
   "cell_type": "code",
   "execution_count": 155,
   "metadata": {},
   "outputs": [
    {
     "data": {
      "text/plain": [
       "['Donated to In House',\n",
       " 'Donated to P3',\n",
       " 'Has Planned Giving Record',\n",
       " 'AGE',\n",
       " 'No. of Mail Order Responses',\n",
       " 'Is a major donor',\n",
       " 'Median Family Incm (hundreds)',\n",
       " 'Total Amt (All Gifts)',\n",
       " 'Total No. (All Gifts:Promos)',\n",
       " 'Amt (Most Recent Gift)',\n",
       " '2ndGft-1stGft(months)',\n",
       " 'Avg Amt (All Gifts)',\n",
       " 'P3 Solicitation Limit_0',\n",
       " 'P3 Solicitation Limit_00',\n",
       " 'P3 Solicitation Limit_01',\n",
       " 'P3 Solicitation Limit_02',\n",
       " 'P3 Solicitation Limit_12',\n",
       " 'In House Solicitation Limit_0',\n",
       " 'In House Solicitation Limit_00',\n",
       " 'In House Solicitation Limit_01',\n",
       " 'In House Solicitation Limit_02',\n",
       " 'In House Solicitation Limit_03',\n",
       " 'In House Solicitation Limit_04',\n",
       " 'In House Solicitation Limit_06',\n",
       " 'In House Solicitation Limit_12']"
      ]
     },
     "execution_count": 155,
     "metadata": {},
     "output_type": "execute_result"
    }
   ],
   "source": [
    "X_list = [x for x in df_sm_Xy_train_drp.columns[0:12]]\n",
    "temp = ['P3 Solicitation Limit_0',\n",
    "       'P3 Solicitation Limit_00', 'P3 Solicitation Limit_01',\n",
    "       'P3 Solicitation Limit_02', 'P3 Solicitation Limit_12',\n",
    "       'In House Solicitation Limit_0', 'In House Solicitation Limit_00',\n",
    "       'In House Solicitation Limit_01', 'In House Solicitation Limit_02',\n",
    "       'In House Solicitation Limit_03', 'In House Solicitation Limit_04',\n",
    "       'In House Solicitation Limit_06', 'In House Solicitation Limit_12',]\n",
    "temp_X = X_list + temp\n",
    "temp_X"
   ]
  },
  {
   "cell_type": "code",
   "execution_count": 156,
   "metadata": {},
   "outputs": [],
   "source": [
    "X_v2 = pproc_df2.loc[:, pproc_df2.columns.isin(temp_X)]\n",
    "y_v2 = pproc_df2['Response (97NK Mail)']"
   ]
  },
  {
   "cell_type": "code",
   "execution_count": 157,
   "metadata": {},
   "outputs": [],
   "source": [
    "from sklearn.model_selection import train_test_split\n",
    "\n",
    "X_v2_train, X_v2_val, y_v2_train, y_v2_val = train_test_split(X_v2, y_v2, test_size = 0.6, random_state=0)"
   ]
  },
  {
   "cell_type": "code",
   "execution_count": 158,
   "metadata": {},
   "outputs": [
    {
     "name": "stdout",
     "output_type": "stream",
     "text": [
      "0    36267\n",
      "1     1897\n",
      "Name: Response (97NK Mail), dtype: int64\n"
     ]
    }
   ],
   "source": [
    "#just testing out the proportions pre-SMOTE\n",
    "\n",
    "dummydf = pd.DataFrame(y_v2_train)\n",
    "print(dummydf['Response (97NK Mail)'].value_counts())"
   ]
  },
  {
   "cell_type": "code",
   "execution_count": 159,
   "metadata": {},
   "outputs": [],
   "source": [
    "from imblearn.over_sampling import SMOTE\n",
    "\n",
    "sm = SMOTE(random_state=0)\n",
    "sm_X_v2_train, sm_y_v2_train = sm.fit_sample(X_v2_train, y_v2_train)"
   ]
  },
  {
   "cell_type": "code",
   "execution_count": 160,
   "metadata": {},
   "outputs": [
    {
     "name": "stdout",
     "output_type": "stream",
     "text": [
      "1    36267\n",
      "0    36267\n",
      "Name: 0, dtype: int64\n"
     ]
    }
   ],
   "source": [
    "#just testing out the proportions after-SMOTE\n",
    "\n",
    "dummydf2 = pd.DataFrame(sm_y_v2_train)\n",
    "print(dummydf2[0].value_counts())"
   ]
  },
  {
   "cell_type": "code",
   "execution_count": 161,
   "metadata": {},
   "outputs": [
    {
     "name": "stdout",
     "output_type": "stream",
     "text": [
      "total oversampled dataset:  72534\n",
      "1    36267\n",
      "0    36267\n",
      "Name: Response (97NK Mail), dtype: int64\n",
      "no response(%):  0.5\n",
      "response(%):  0.5\n",
      "===\n",
      "total validation dataset:  57247\n",
      "0    54302\n",
      "1     2945\n",
      "Name: Response (97NK Mail), dtype: int64\n"
     ]
    }
   ],
   "source": [
    "#further sanity check before implementing the model\n",
    "\n",
    "df_sm_X_v2_train = pd.DataFrame(data=sm_X_v2_train,columns=X_v2_train.columns)\n",
    "df_sm_y_v2_train = pd.DataFrame(data=sm_y_v2_train,columns=['Response (97NK Mail)'])\n",
    "\n",
    "print(\"total oversampled dataset: \",len(df_sm_X_v2_train))\n",
    "print(df_sm_y_v2_train['Response (97NK Mail)'].value_counts())\n",
    "print(\"no response(%): \",len(df_sm_y_v2_train[df_sm_y_v2_train['Response (97NK Mail)']==0])/len(df_sm_X_v2_train))\n",
    "print(\"response(%): \",len(df_sm_y_v2_train[df_sm_y_v2_train['Response (97NK Mail)']==1])/len(df_sm_X_v2_train))\n",
    "print(\"===\")\n",
    "print(\"total validation dataset: \",len(X_v2_val))\n",
    "df_y_v2_val = pd.DataFrame(y_v2_val)\n",
    "print(df_y_v2_val['Response (97NK Mail)'].value_counts())"
   ]
  },
  {
   "cell_type": "markdown",
   "metadata": {},
   "source": [
    "##### LOGISTIC REGRESSION IMPLEMENTATION"
   ]
  },
  {
   "cell_type": "code",
   "execution_count": 162,
   "metadata": {},
   "outputs": [
    {
     "data": {
      "text/plain": [
       "LogisticRegression(C=1.0, class_weight=None, dual=False, fit_intercept=True,\n",
       "          intercept_scaling=1, max_iter=100, multi_class='ovr',\n",
       "          n_jobs=None, penalty='l2', random_state=None, solver='liblinear',\n",
       "          tol=0.0001, verbose=0, warm_start=False)"
      ]
     },
     "execution_count": 162,
     "metadata": {},
     "output_type": "execute_result"
    }
   ],
   "source": [
    "from sklearn.linear_model import LogisticRegression\n",
    "from sklearn import metrics\n",
    "\n",
    "logreg = LogisticRegression(multi_class='ovr',solver='liblinear')\n",
    "logreg.fit(sm_X_v2_train, sm_y_v2_train)"
   ]
  },
  {
   "cell_type": "code",
   "execution_count": 163,
   "metadata": {},
   "outputs": [
    {
     "name": "stdout",
     "output_type": "stream",
     "text": [
      "Accuracy of logistic regression classifier on test set:  0.6064073226544623\n"
     ]
    }
   ],
   "source": [
    "y_pred = logreg.predict(X_v2_val)\n",
    "print('Accuracy of logistic regression classifier on test set: {: }'.format(logreg.score(X_v2_val, y_v2_val)))"
   ]
  },
  {
   "cell_type": "code",
   "execution_count": 164,
   "metadata": {},
   "outputs": [
    {
     "name": "stdout",
     "output_type": "stream",
     "text": [
      "[[33190 21112]\n",
      " [ 1420  1525]]\n"
     ]
    }
   ],
   "source": [
    "from sklearn.metrics import confusion_matrix\n",
    "\n",
    "confusion_matrix = confusion_matrix(y_v2_val, y_pred)\n",
    "print(confusion_matrix)"
   ]
  },
  {
   "cell_type": "code",
   "execution_count": 165,
   "metadata": {},
   "outputs": [
    {
     "data": {
      "text/plain": [
       "57247"
      ]
     },
     "execution_count": 165,
     "metadata": {},
     "output_type": "execute_result"
    }
   ],
   "source": [
    "confusion_matrix.sum()"
   ]
  },
  {
   "cell_type": "code",
   "execution_count": 166,
   "metadata": {},
   "outputs": [
    {
     "name": "stdout",
     "output_type": "stream",
     "text": [
      "misclassification rate:  0.39359267734553777\n",
      "sensitivity:  0.6112113734300763\n",
      "specificity:  0.5178268251273345\n"
     ]
    }
   ],
   "source": [
    "print(\"misclassification rate: \", (confusion_matrix[0][1]+confusion_matrix[1][0])/confusion_matrix.sum())\n",
    "print(\"sensitivity: \",confusion_matrix[0][0]/(confusion_matrix[0][0]+confusion_matrix[0][1]))\n",
    "print(\"specificity: \",confusion_matrix[1][1]/(confusion_matrix[1][1]+confusion_matrix[1][0]))"
   ]
  },
  {
   "cell_type": "code",
   "execution_count": 141,
   "metadata": {},
   "outputs": [
    {
     "name": "stdout",
     "output_type": "stream",
     "text": [
      "              precision    recall  f1-score   support\n",
      "\n",
      "           0       0.96      0.61      0.75     54302\n",
      "           1       0.07      0.52      0.12      2945\n",
      "\n",
      "   micro avg       0.61      0.61      0.61     57247\n",
      "   macro avg       0.51      0.56      0.43     57247\n",
      "weighted avg       0.91      0.61      0.71     57247\n",
      "\n"
     ]
    }
   ],
   "source": [
    "from sklearn.metrics import classification_report\n",
    "\n",
    "print(classification_report(y_v2_val, y_pred))"
   ]
  },
  {
   "cell_type": "code",
   "execution_count": 142,
   "metadata": {},
   "outputs": [
    {
     "data": {
      "image/png": "[encoded data removed]",
      "text/plain": [
       "<Figure size 432x288 with 1 Axes>"
      ]
     },
     "metadata": {
      "needs_background": "light"
     },
     "output_type": "display_data"
    }
   ],
   "source": [
    "from sklearn.metrics import roc_auc_score\n",
    "from sklearn.metrics import roc_curve\n",
    "\n",
    "logit_roc_auc = roc_auc_score(y_v2_val, logreg.predict(X_v2_val))\n",
    "fpr, tpr, thresholds = roc_curve(y_v2_val, logreg.predict_proba(X_v2_val)[:,1])\n",
    "plt.figure()\n",
    "plt.plot(fpr, tpr, label='Logistic Regression (area = %0.2f)' % logit_roc_auc)\n",
    "plt.plot([0, 1], [0, 1],'r--')\n",
    "plt.xlim([0.0, 1.0])\n",
    "plt.ylim([0.0, 1.05])\n",
    "plt.xlabel('False Positive Rate')\n",
    "plt.ylabel('True Positive Rate')\n",
    "plt.title('Receiver operating characteristic')\n",
    "plt.legend(loc=\"lower right\")\n",
    "plt.savefig('Log_ROC')\n",
    "plt.show()"
   ]
  },
  {
   "cell_type": "markdown",
   "metadata": {},
   "source": [
    "Verdict:\n",
    "- my overall misclassification rate is better vs my SAS implementation\n",
    "- my true positive rate is better (i.e., my model could better predict those who are going to actually respond to the promo)\n",
    "- however, my true negative rate is worse (i.e., my model produces more false positives)\n",
    "- that is why vs the SAS implementation, my AUROC is worse off by 0.04 or 4 percentage pts)"
   ]
  },
  {
   "cell_type": "markdown",
   "metadata": {},
   "source": [
    "### NEXT STEPS :  check out p-values and trim variables further + use Recursive Feature Elimination in this blog post: https://towardsdatascience.com/building-a-logistic-regression-in-python-step-by-step-becd4d56c9c8 "
   ]
  }
 ],
 "metadata": {
  "kernelspec": {
   "display_name": "Python 3",
   "language": "python",
   "name": "python3"
  },
  "language_info": {
   "codemirror_mode": {
    "name": "ipython",
    "version": 3
   },
   "file_extension": ".py",
   "mimetype": "text/x-python",
   "name": "python",
   "nbconvert_exporter": "python",
   "pygments_lexer": "ipython3",
   "version": "3.7.1"
  }
 },
 "nbformat": 4,
 "nbformat_minor": 2
}
