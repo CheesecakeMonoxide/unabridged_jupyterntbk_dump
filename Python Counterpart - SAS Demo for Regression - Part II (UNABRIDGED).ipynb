{
 "cells": [
  {
   "cell_type": "markdown",
   "metadata": {},
   "source": [
    "<strong>Goal: </strong>\n",
    "<br>Estimate the return from a direct mailing in order to maximize donation profits.\n",
    "<br>Subject: Lapsing donors\n",
    "<br><strong>Models needed:</strong>\n",
    "<br>- Classifier: Identify which donors are most susceptible to donating (to send or not to send mail)\n",
    "<br>- Predict donation value: How much will be donated by a specific person/group (how much to invest in sending the mail)"
   ]
  },
  {
   "cell_type": "code",
   "execution_count": 1,
   "metadata": {},
   "outputs": [],
   "source": [
    "import pandas as pd\n",
    "import numpy as np\n",
    "import matplotlib.pyplot as plt\n",
    "import seaborn as sns\n",
    "import statsmodels.api as sm\n",
    "from statsmodels.stats.outliers_influence import variance_inflation_factor"
   ]
  },
  {
   "cell_type": "code",
   "execution_count": 2,
   "metadata": {},
   "outputs": [
    {
     "data": {
      "text/html": [
       "<div>\n",
       "<style scoped>\n",
       "    .dataframe tbody tr th:only-of-type {\n",
       "        vertical-align: middle;\n",
       "    }\n",
       "\n",
       "    .dataframe tbody tr th {\n",
       "        vertical-align: top;\n",
       "    }\n",
       "\n",
       "    .dataframe thead th {\n",
       "        text-align: right;\n",
       "    }\n",
       "</style>\n",
       "<table border=\"1\" class=\"dataframe\">\n",
       "  <thead>\n",
       "    <tr style=\"text-align: right;\">\n",
       "      <th></th>\n",
       "      <th>Unnamed: 0</th>\n",
       "      <th>Donated to In House</th>\n",
       "      <th>Donated to P3</th>\n",
       "      <th>Has Planned Giving Record</th>\n",
       "      <th>AGE</th>\n",
       "      <th>No. of Mail Order Responses</th>\n",
       "      <th>Is a major donor</th>\n",
       "      <th>Median HomeVal (hundreds)</th>\n",
       "      <th>Avg HomeVal (hundreds)</th>\n",
       "      <th>Median Rent(hundreds)</th>\n",
       "      <th>...</th>\n",
       "      <th>Neighbhd/Socio-ec Status_S1</th>\n",
       "      <th>Neighbhd/Socio-ec Status_S2</th>\n",
       "      <th>Neighbhd/Socio-ec Status_S3</th>\n",
       "      <th>Neighbhd/Socio-ec Status_T1</th>\n",
       "      <th>Neighbhd/Socio-ec Status_T2</th>\n",
       "      <th>Neighbhd/Socio-ec Status_T3</th>\n",
       "      <th>Neighbhd/Socio-ec Status_U1</th>\n",
       "      <th>Neighbhd/Socio-ec Status_U2</th>\n",
       "      <th>Neighbhd/Socio-ec Status_U3</th>\n",
       "      <th>Neighbhd/Socio-ec Status_U4</th>\n",
       "    </tr>\n",
       "    <tr>\n",
       "      <th>CONTROLN</th>\n",
       "      <th></th>\n",
       "      <th></th>\n",
       "      <th></th>\n",
       "      <th></th>\n",
       "      <th></th>\n",
       "      <th></th>\n",
       "      <th></th>\n",
       "      <th></th>\n",
       "      <th></th>\n",
       "      <th></th>\n",
       "      <th></th>\n",
       "      <th></th>\n",
       "      <th></th>\n",
       "      <th></th>\n",
       "      <th></th>\n",
       "      <th></th>\n",
       "      <th></th>\n",
       "      <th></th>\n",
       "      <th></th>\n",
       "      <th></th>\n",
       "      <th></th>\n",
       "    </tr>\n",
       "  </thead>\n",
       "  <tbody>\n",
       "    <tr>\n",
       "      <th>95515</th>\n",
       "      <td>0</td>\n",
       "      <td>0</td>\n",
       "      <td>0</td>\n",
       "      <td>0</td>\n",
       "      <td>60.000000</td>\n",
       "      <td>0</td>\n",
       "      <td>0</td>\n",
       "      <td>479</td>\n",
       "      <td>635</td>\n",
       "      <td>3</td>\n",
       "      <td>...</td>\n",
       "      <td>0</td>\n",
       "      <td>0</td>\n",
       "      <td>0</td>\n",
       "      <td>0</td>\n",
       "      <td>1</td>\n",
       "      <td>0</td>\n",
       "      <td>0</td>\n",
       "      <td>0</td>\n",
       "      <td>0</td>\n",
       "      <td>0</td>\n",
       "    </tr>\n",
       "    <tr>\n",
       "      <th>148535</th>\n",
       "      <td>1</td>\n",
       "      <td>0</td>\n",
       "      <td>0</td>\n",
       "      <td>0</td>\n",
       "      <td>46.000000</td>\n",
       "      <td>16</td>\n",
       "      <td>0</td>\n",
       "      <td>5468</td>\n",
       "      <td>5218</td>\n",
       "      <td>12</td>\n",
       "      <td>...</td>\n",
       "      <td>1</td>\n",
       "      <td>0</td>\n",
       "      <td>0</td>\n",
       "      <td>0</td>\n",
       "      <td>0</td>\n",
       "      <td>0</td>\n",
       "      <td>0</td>\n",
       "      <td>0</td>\n",
       "      <td>0</td>\n",
       "      <td>0</td>\n",
       "    </tr>\n",
       "    <tr>\n",
       "      <th>15078</th>\n",
       "      <td>2</td>\n",
       "      <td>0</td>\n",
       "      <td>0</td>\n",
       "      <td>0</td>\n",
       "      <td>69.349251</td>\n",
       "      <td>2</td>\n",
       "      <td>0</td>\n",
       "      <td>497</td>\n",
       "      <td>546</td>\n",
       "      <td>2</td>\n",
       "      <td>...</td>\n",
       "      <td>0</td>\n",
       "      <td>0</td>\n",
       "      <td>0</td>\n",
       "      <td>0</td>\n",
       "      <td>0</td>\n",
       "      <td>0</td>\n",
       "      <td>0</td>\n",
       "      <td>0</td>\n",
       "      <td>0</td>\n",
       "      <td>0</td>\n",
       "    </tr>\n",
       "    <tr>\n",
       "      <th>172556</th>\n",
       "      <td>3</td>\n",
       "      <td>0</td>\n",
       "      <td>0</td>\n",
       "      <td>0</td>\n",
       "      <td>70.000000</td>\n",
       "      <td>2</td>\n",
       "      <td>0</td>\n",
       "      <td>1000</td>\n",
       "      <td>1263</td>\n",
       "      <td>2</td>\n",
       "      <td>...</td>\n",
       "      <td>0</td>\n",
       "      <td>0</td>\n",
       "      <td>0</td>\n",
       "      <td>0</td>\n",
       "      <td>0</td>\n",
       "      <td>0</td>\n",
       "      <td>0</td>\n",
       "      <td>0</td>\n",
       "      <td>0</td>\n",
       "      <td>0</td>\n",
       "    </tr>\n",
       "    <tr>\n",
       "      <th>7112</th>\n",
       "      <td>4</td>\n",
       "      <td>1</td>\n",
       "      <td>1</td>\n",
       "      <td>0</td>\n",
       "      <td>78.000000</td>\n",
       "      <td>60</td>\n",
       "      <td>0</td>\n",
       "      <td>576</td>\n",
       "      <td>594</td>\n",
       "      <td>4</td>\n",
       "      <td>...</td>\n",
       "      <td>0</td>\n",
       "      <td>1</td>\n",
       "      <td>0</td>\n",
       "      <td>0</td>\n",
       "      <td>0</td>\n",
       "      <td>0</td>\n",
       "      <td>0</td>\n",
       "      <td>0</td>\n",
       "      <td>0</td>\n",
       "      <td>0</td>\n",
       "    </tr>\n",
       "  </tbody>\n",
       "</table>\n",
       "<p>5 rows × 112 columns</p>\n",
       "</div>"
      ],
      "text/plain": [
       "          Unnamed: 0  Donated to In House  Donated to P3  \\\n",
       "CONTROLN                                                   \n",
       "95515              0                    0              0   \n",
       "148535             1                    0              0   \n",
       "15078              2                    0              0   \n",
       "172556             3                    0              0   \n",
       "7112               4                    1              1   \n",
       "\n",
       "          Has Planned Giving Record        AGE  No. of Mail Order Responses  \\\n",
       "CONTROLN                                                                      \n",
       "95515                             0  60.000000                            0   \n",
       "148535                            0  46.000000                           16   \n",
       "15078                             0  69.349251                            2   \n",
       "172556                            0  70.000000                            2   \n",
       "7112                              0  78.000000                           60   \n",
       "\n",
       "          Is a major donor  Median HomeVal (hundreds)  Avg HomeVal (hundreds)  \\\n",
       "CONTROLN                                                                        \n",
       "95515                    0                        479                     635   \n",
       "148535                   0                       5468                    5218   \n",
       "15078                    0                        497                     546   \n",
       "172556                   0                       1000                    1263   \n",
       "7112                     0                        576                     594   \n",
       "\n",
       "          Median Rent(hundreds)             ...               \\\n",
       "CONTROLN                                    ...                \n",
       "95515                         3             ...                \n",
       "148535                       12             ...                \n",
       "15078                         2             ...                \n",
       "172556                        2             ...                \n",
       "7112                          4             ...                \n",
       "\n",
       "          Neighbhd/Socio-ec Status_S1  Neighbhd/Socio-ec Status_S2  \\\n",
       "CONTROLN                                                             \n",
       "95515                               0                            0   \n",
       "148535                              1                            0   \n",
       "15078                               0                            0   \n",
       "172556                              0                            0   \n",
       "7112                                0                            1   \n",
       "\n",
       "          Neighbhd/Socio-ec Status_S3  Neighbhd/Socio-ec Status_T1  \\\n",
       "CONTROLN                                                             \n",
       "95515                               0                            0   \n",
       "148535                              0                            0   \n",
       "15078                               0                            0   \n",
       "172556                              0                            0   \n",
       "7112                                0                            0   \n",
       "\n",
       "          Neighbhd/Socio-ec Status_T2  Neighbhd/Socio-ec Status_T3  \\\n",
       "CONTROLN                                                             \n",
       "95515                               1                            0   \n",
       "148535                              0                            0   \n",
       "15078                               0                            0   \n",
       "172556                              0                            0   \n",
       "7112                                0                            0   \n",
       "\n",
       "          Neighbhd/Socio-ec Status_U1  Neighbhd/Socio-ec Status_U2  \\\n",
       "CONTROLN                                                             \n",
       "95515                               0                            0   \n",
       "148535                              0                            0   \n",
       "15078                               0                            0   \n",
       "172556                              0                            0   \n",
       "7112                                0                            0   \n",
       "\n",
       "          Neighbhd/Socio-ec Status_U3  Neighbhd/Socio-ec Status_U4  \n",
       "CONTROLN                                                            \n",
       "95515                               0                            0  \n",
       "148535                              0                            0  \n",
       "15078                               0                            0  \n",
       "172556                              0                            0  \n",
       "7112                                0                            0  \n",
       "\n",
       "[5 rows x 112 columns]"
      ]
     },
     "execution_count": 2,
     "metadata": {},
     "output_type": "execute_result"
    }
   ],
   "source": [
    "pproc_df = pd.read_csv('pva97nk_py_preproc_regrssn.csv')\n",
    "pproc_df.set_index('CONTROLN', inplace=True)\n",
    "pproc_df.head()"
   ]
  },
  {
   "cell_type": "markdown",
   "metadata": {},
   "source": [
    "##### SAMPLING"
   ]
  },
  {
   "cell_type": "code",
   "execution_count": 3,
   "metadata": {},
   "outputs": [
    {
     "data": {
      "text/plain": [
       "(95412, 112)"
      ]
     },
     "execution_count": 3,
     "metadata": {},
     "output_type": "execute_result"
    }
   ],
   "source": [
    "pproc_df.shape"
   ]
  },
  {
   "cell_type": "code",
   "execution_count": 4,
   "metadata": {},
   "outputs": [
    {
     "data": {
      "text/plain": [
       "array(['Unnamed: 0', 'Donated to In House', 'Donated to P3',\n",
       "       'Has Planned Giving Record', 'AGE', 'No. of Mail Order Responses',\n",
       "       'Is a major donor', 'Median HomeVal (hundreds)',\n",
       "       'Avg HomeVal (hundreds)', 'Median Rent(hundreds)',\n",
       "       'Avg Rent(hundreds)', 'Median Hshold Incm (hundreds)',\n",
       "       'Median Family Incm (hundreds)', 'Avg Hshold Incm (hundreds)',\n",
       "       'Avg Family Incm (hundreds)', 'Per Capita Income',\n",
       "       'Total Amt (All Gifts)', 'Total No. (All Gifts)',\n",
       "       'Total No. (All Gifts:Promos)', 'Amt (Most Recent Gift)',\n",
       "       '2ndGft-1stGft(months)', 'Avg Amt (All Gifts)',\n",
       "       'Response (97NK Mail)', 'Amt Donated (97NK Mail)', 'CLUSTER_01',\n",
       "       'CLUSTER_02', 'CLUSTER_03', 'CLUSTER_04', 'CLUSTER_05',\n",
       "       'CLUSTER_06', 'CLUSTER_07', 'CLUSTER_08', 'CLUSTER_09',\n",
       "       'CLUSTER_10', 'CLUSTER_11', 'CLUSTER_12', 'CLUSTER_13',\n",
       "       'CLUSTER_14', 'CLUSTER_15', 'CLUSTER_16', 'CLUSTER_17',\n",
       "       'CLUSTER_18', 'CLUSTER_19', 'CLUSTER_20', 'CLUSTER_21',\n",
       "       'CLUSTER_22', 'CLUSTER_23', 'CLUSTER_24', 'CLUSTER_25',\n",
       "       'CLUSTER_26', 'CLUSTER_27', 'CLUSTER_28', 'CLUSTER_29',\n",
       "       'CLUSTER_30', 'CLUSTER_31', 'CLUSTER_32', 'CLUSTER_33',\n",
       "       'CLUSTER_34', 'CLUSTER_35', 'CLUSTER_36', 'CLUSTER_37',\n",
       "       'CLUSTER_38', 'CLUSTER_39', 'CLUSTER_40', 'CLUSTER_41',\n",
       "       'CLUSTER_42', 'CLUSTER_43', 'CLUSTER_44', 'CLUSTER_45',\n",
       "       'CLUSTER_46', 'CLUSTER_47', 'CLUSTER_48', 'CLUSTER_49',\n",
       "       'CLUSTER_50', 'CLUSTER_51', 'CLUSTER_52', 'CLUSTER_53', 'GENDER_A',\n",
       "       'GENDER_C', 'GENDER_F', 'GENDER_J', 'GENDER_M', 'GENDER_U',\n",
       "       'P3 Solicitation Limit_0', 'P3 Solicitation Limit_00',\n",
       "       'P3 Solicitation Limit_01', 'P3 Solicitation Limit_02',\n",
       "       'P3 Solicitation Limit_12', 'In House Solicitation Limit_0',\n",
       "       'In House Solicitation Limit_00', 'In House Solicitation Limit_01',\n",
       "       'In House Solicitation Limit_02', 'In House Solicitation Limit_03',\n",
       "       'In House Solicitation Limit_04', 'In House Solicitation Limit_06',\n",
       "       'In House Solicitation Limit_12', 'Neighbhd/Socio-ec Status_C1',\n",
       "       'Neighbhd/Socio-ec Status_C2', 'Neighbhd/Socio-ec Status_C3',\n",
       "       'Neighbhd/Socio-ec Status_R1', 'Neighbhd/Socio-ec Status_R2',\n",
       "       'Neighbhd/Socio-ec Status_R3', 'Neighbhd/Socio-ec Status_S1',\n",
       "       'Neighbhd/Socio-ec Status_S2', 'Neighbhd/Socio-ec Status_S3',\n",
       "       'Neighbhd/Socio-ec Status_T1', 'Neighbhd/Socio-ec Status_T2',\n",
       "       'Neighbhd/Socio-ec Status_T3', 'Neighbhd/Socio-ec Status_U1',\n",
       "       'Neighbhd/Socio-ec Status_U2', 'Neighbhd/Socio-ec Status_U3',\n",
       "       'Neighbhd/Socio-ec Status_U4'], dtype=object)"
      ]
     },
     "execution_count": 4,
     "metadata": {},
     "output_type": "execute_result"
    }
   ],
   "source": [
    "pproc_df.columns.values"
   ]
  },
  {
   "cell_type": "code",
   "execution_count": 5,
   "metadata": {},
   "outputs": [
    {
     "name": "stdout",
     "output_type": "stream",
     "text": [
      "0    90569\n",
      "1     4843\n",
      "Name: Response (97NK Mail), dtype: int64\n",
      "no response(%) 94.92411855951033\n",
      "response(%) 5.075881440489666\n"
     ]
    }
   ],
   "source": [
    "print(pproc_df['Response (97NK Mail)'].value_counts())\n",
    "\n",
    "print(\"no response(%)\", (1-(pproc_df['Response (97NK Mail)'].sum()/len(pproc_df['Response (97NK Mail)'])))*100)\n",
    "print(\"response(%)\", (pproc_df['Response (97NK Mail)'].sum()/len(pproc_df['Response (97NK Mail)'])*100))"
   ]
  },
  {
   "cell_type": "markdown",
   "metadata": {},
   "source": [
    "To achieve a balanced dataset, I will up-sample the response observations to match the number of no-response observations. A balanced dataset will help us measure more accurately the error metrics of our proposed model/s. If we retain the proportions in our sampling, then a model that simply predicts all observations to be no-response would still be about 95% correct. This is what I am trying to avoid. \n",
    "\n",
    "<p> To get my samples, I will use SMOTE. But before doing so, I will split my dataset into training and validation sets first, and only apply up-sampling for the training dataset."
   ]
  },
  {
   "cell_type": "code",
   "execution_count": 6,
   "metadata": {},
   "outputs": [
    {
     "data": {
      "text/plain": [
       "['AGE']"
      ]
     },
     "execution_count": 6,
     "metadata": {},
     "output_type": "execute_result"
    }
   ],
   "source": [
    "#I'm getting an error about my columns having a nan. So to double-check,\n",
    "\n",
    "pproc_df.columns[pproc_df.isna().any()].tolist()"
   ]
  },
  {
   "cell_type": "code",
   "execution_count": 7,
   "metadata": {},
   "outputs": [
    {
     "data": {
      "text/plain": [
       "1"
      ]
     },
     "execution_count": 7,
     "metadata": {},
     "output_type": "execute_result"
    }
   ],
   "source": [
    "pproc_df['AGE'].isnull().sum()"
   ]
  },
  {
   "cell_type": "code",
   "execution_count": 8,
   "metadata": {},
   "outputs": [
    {
     "data": {
      "text/html": [
       "<div>\n",
       "<style scoped>\n",
       "    .dataframe tbody tr th:only-of-type {\n",
       "        vertical-align: middle;\n",
       "    }\n",
       "\n",
       "    .dataframe tbody tr th {\n",
       "        vertical-align: top;\n",
       "    }\n",
       "\n",
       "    .dataframe thead th {\n",
       "        text-align: right;\n",
       "    }\n",
       "</style>\n",
       "<table border=\"1\" class=\"dataframe\">\n",
       "  <thead>\n",
       "    <tr style=\"text-align: right;\">\n",
       "      <th></th>\n",
       "      <th>Unnamed: 0</th>\n",
       "      <th>Donated to In House</th>\n",
       "      <th>Donated to P3</th>\n",
       "      <th>Has Planned Giving Record</th>\n",
       "      <th>AGE</th>\n",
       "      <th>No. of Mail Order Responses</th>\n",
       "      <th>Is a major donor</th>\n",
       "      <th>Median HomeVal (hundreds)</th>\n",
       "      <th>Avg HomeVal (hundreds)</th>\n",
       "      <th>Median Rent(hundreds)</th>\n",
       "      <th>...</th>\n",
       "      <th>Neighbhd/Socio-ec Status_S1</th>\n",
       "      <th>Neighbhd/Socio-ec Status_S2</th>\n",
       "      <th>Neighbhd/Socio-ec Status_S3</th>\n",
       "      <th>Neighbhd/Socio-ec Status_T1</th>\n",
       "      <th>Neighbhd/Socio-ec Status_T2</th>\n",
       "      <th>Neighbhd/Socio-ec Status_T3</th>\n",
       "      <th>Neighbhd/Socio-ec Status_U1</th>\n",
       "      <th>Neighbhd/Socio-ec Status_U2</th>\n",
       "      <th>Neighbhd/Socio-ec Status_U3</th>\n",
       "      <th>Neighbhd/Socio-ec Status_U4</th>\n",
       "    </tr>\n",
       "    <tr>\n",
       "      <th>CONTROLN</th>\n",
       "      <th></th>\n",
       "      <th></th>\n",
       "      <th></th>\n",
       "      <th></th>\n",
       "      <th></th>\n",
       "      <th></th>\n",
       "      <th></th>\n",
       "      <th></th>\n",
       "      <th></th>\n",
       "      <th></th>\n",
       "      <th></th>\n",
       "      <th></th>\n",
       "      <th></th>\n",
       "      <th></th>\n",
       "      <th></th>\n",
       "      <th></th>\n",
       "      <th></th>\n",
       "      <th></th>\n",
       "      <th></th>\n",
       "      <th></th>\n",
       "      <th></th>\n",
       "    </tr>\n",
       "  </thead>\n",
       "  <tbody>\n",
       "    <tr>\n",
       "      <th>6050</th>\n",
       "      <td>16716</td>\n",
       "      <td>1</td>\n",
       "      <td>1</td>\n",
       "      <td>0</td>\n",
       "      <td>NaN</td>\n",
       "      <td>0</td>\n",
       "      <td>0</td>\n",
       "      <td>691</td>\n",
       "      <td>776</td>\n",
       "      <td>2</td>\n",
       "      <td>...</td>\n",
       "      <td>0</td>\n",
       "      <td>0</td>\n",
       "      <td>0</td>\n",
       "      <td>0</td>\n",
       "      <td>0</td>\n",
       "      <td>0</td>\n",
       "      <td>0</td>\n",
       "      <td>0</td>\n",
       "      <td>0</td>\n",
       "      <td>0</td>\n",
       "    </tr>\n",
       "  </tbody>\n",
       "</table>\n",
       "<p>1 rows × 112 columns</p>\n",
       "</div>"
      ],
      "text/plain": [
       "          Unnamed: 0  Donated to In House  Donated to P3  \\\n",
       "CONTROLN                                                   \n",
       "6050           16716                    1              1   \n",
       "\n",
       "          Has Planned Giving Record  AGE  No. of Mail Order Responses  \\\n",
       "CONTROLN                                                                \n",
       "6050                              0  NaN                            0   \n",
       "\n",
       "          Is a major donor  Median HomeVal (hundreds)  Avg HomeVal (hundreds)  \\\n",
       "CONTROLN                                                                        \n",
       "6050                     0                        691                     776   \n",
       "\n",
       "          Median Rent(hundreds)             ...               \\\n",
       "CONTROLN                                    ...                \n",
       "6050                          2             ...                \n",
       "\n",
       "          Neighbhd/Socio-ec Status_S1  Neighbhd/Socio-ec Status_S2  \\\n",
       "CONTROLN                                                             \n",
       "6050                                0                            0   \n",
       "\n",
       "          Neighbhd/Socio-ec Status_S3  Neighbhd/Socio-ec Status_T1  \\\n",
       "CONTROLN                                                             \n",
       "6050                                0                            0   \n",
       "\n",
       "          Neighbhd/Socio-ec Status_T2  Neighbhd/Socio-ec Status_T3  \\\n",
       "CONTROLN                                                             \n",
       "6050                                0                            0   \n",
       "\n",
       "          Neighbhd/Socio-ec Status_U1  Neighbhd/Socio-ec Status_U2  \\\n",
       "CONTROLN                                                             \n",
       "6050                                0                            0   \n",
       "\n",
       "          Neighbhd/Socio-ec Status_U3  Neighbhd/Socio-ec Status_U4  \n",
       "CONTROLN                                                            \n",
       "6050                                0                            0  \n",
       "\n",
       "[1 rows x 112 columns]"
      ]
     },
     "execution_count": 8,
     "metadata": {},
     "output_type": "execute_result"
    }
   ],
   "source": [
    "pproc_df[pproc_df['AGE'].isnull()]"
   ]
  },
  {
   "cell_type": "code",
   "execution_count": 9,
   "metadata": {},
   "outputs": [],
   "source": [
    "#So weirdly enough, there is one row with a missing value even if I already supposedly imputed all the nans earlier\n",
    "#So again,\n",
    "\n",
    "pproc_df['AGE'].fillna(pproc_df.groupby('Total No. (All Gifts:Promos)')['AGE'].transform('mean'),inplace=True)"
   ]
  },
  {
   "cell_type": "code",
   "execution_count": 10,
   "metadata": {},
   "outputs": [
    {
     "data": {
      "text/plain": [
       "['AGE']"
      ]
     },
     "execution_count": 10,
     "metadata": {},
     "output_type": "execute_result"
    }
   ],
   "source": [
    "pproc_df.columns[pproc_df.isna().any()].tolist()"
   ]
  },
  {
   "cell_type": "code",
   "execution_count": 11,
   "metadata": {},
   "outputs": [],
   "source": [
    "#It's still there so, in the interest of time, I'll just remove it instead of further troubleshooting it\n",
    "\n",
    "pproc_df2 = pproc_df[pproc_df.AGE.notnull()]"
   ]
  },
  {
   "cell_type": "code",
   "execution_count": 12,
   "metadata": {},
   "outputs": [
    {
     "data": {
      "text/plain": [
       "[]"
      ]
     },
     "execution_count": 12,
     "metadata": {},
     "output_type": "execute_result"
    }
   ],
   "source": [
    "pproc_df2.columns[pproc_df2.isna().any()].tolist()"
   ]
  },
  {
   "cell_type": "code",
   "execution_count": 13,
   "metadata": {},
   "outputs": [
    {
     "data": {
      "text/html": [
       "<div>\n",
       "<style scoped>\n",
       "    .dataframe tbody tr th:only-of-type {\n",
       "        vertical-align: middle;\n",
       "    }\n",
       "\n",
       "    .dataframe tbody tr th {\n",
       "        vertical-align: top;\n",
       "    }\n",
       "\n",
       "    .dataframe thead th {\n",
       "        text-align: right;\n",
       "    }\n",
       "</style>\n",
       "<table border=\"1\" class=\"dataframe\">\n",
       "  <thead>\n",
       "    <tr style=\"text-align: right;\">\n",
       "      <th></th>\n",
       "      <th>Unnamed: 0</th>\n",
       "      <th>Donated to In House</th>\n",
       "      <th>Donated to P3</th>\n",
       "      <th>Has Planned Giving Record</th>\n",
       "      <th>AGE</th>\n",
       "      <th>No. of Mail Order Responses</th>\n",
       "      <th>Is a major donor</th>\n",
       "      <th>Median HomeVal (hundreds)</th>\n",
       "      <th>Avg HomeVal (hundreds)</th>\n",
       "      <th>Median Rent(hundreds)</th>\n",
       "      <th>...</th>\n",
       "      <th>Neighbhd/Socio-ec Status_S1</th>\n",
       "      <th>Neighbhd/Socio-ec Status_S2</th>\n",
       "      <th>Neighbhd/Socio-ec Status_S3</th>\n",
       "      <th>Neighbhd/Socio-ec Status_T1</th>\n",
       "      <th>Neighbhd/Socio-ec Status_T2</th>\n",
       "      <th>Neighbhd/Socio-ec Status_T3</th>\n",
       "      <th>Neighbhd/Socio-ec Status_U1</th>\n",
       "      <th>Neighbhd/Socio-ec Status_U2</th>\n",
       "      <th>Neighbhd/Socio-ec Status_U3</th>\n",
       "      <th>Neighbhd/Socio-ec Status_U4</th>\n",
       "    </tr>\n",
       "    <tr>\n",
       "      <th>CONTROLN</th>\n",
       "      <th></th>\n",
       "      <th></th>\n",
       "      <th></th>\n",
       "      <th></th>\n",
       "      <th></th>\n",
       "      <th></th>\n",
       "      <th></th>\n",
       "      <th></th>\n",
       "      <th></th>\n",
       "      <th></th>\n",
       "      <th></th>\n",
       "      <th></th>\n",
       "      <th></th>\n",
       "      <th></th>\n",
       "      <th></th>\n",
       "      <th></th>\n",
       "      <th></th>\n",
       "      <th></th>\n",
       "      <th></th>\n",
       "      <th></th>\n",
       "      <th></th>\n",
       "    </tr>\n",
       "  </thead>\n",
       "  <tbody>\n",
       "  </tbody>\n",
       "</table>\n",
       "<p>0 rows × 112 columns</p>\n",
       "</div>"
      ],
      "text/plain": [
       "Empty DataFrame\n",
       "Columns: [Unnamed: 0, Donated to In House, Donated to P3, Has Planned Giving Record, AGE, No. of Mail Order Responses, Is a major donor, Median HomeVal (hundreds), Avg HomeVal (hundreds), Median Rent(hundreds), Avg Rent(hundreds), Median Hshold Incm (hundreds), Median Family Incm (hundreds), Avg Hshold Incm (hundreds), Avg Family Incm (hundreds), Per Capita Income, Total Amt (All Gifts), Total No. (All Gifts), Total No. (All Gifts:Promos), Amt (Most Recent Gift), 2ndGft-1stGft(months), Avg Amt (All Gifts), Response (97NK Mail), Amt Donated (97NK Mail), CLUSTER_01, CLUSTER_02, CLUSTER_03, CLUSTER_04, CLUSTER_05, CLUSTER_06, CLUSTER_07, CLUSTER_08, CLUSTER_09, CLUSTER_10, CLUSTER_11, CLUSTER_12, CLUSTER_13, CLUSTER_14, CLUSTER_15, CLUSTER_16, CLUSTER_17, CLUSTER_18, CLUSTER_19, CLUSTER_20, CLUSTER_21, CLUSTER_22, CLUSTER_23, CLUSTER_24, CLUSTER_25, CLUSTER_26, CLUSTER_27, CLUSTER_28, CLUSTER_29, CLUSTER_30, CLUSTER_31, CLUSTER_32, CLUSTER_33, CLUSTER_34, CLUSTER_35, CLUSTER_36, CLUSTER_37, CLUSTER_38, CLUSTER_39, CLUSTER_40, CLUSTER_41, CLUSTER_42, CLUSTER_43, CLUSTER_44, CLUSTER_45, CLUSTER_46, CLUSTER_47, CLUSTER_48, CLUSTER_49, CLUSTER_50, CLUSTER_51, CLUSTER_52, CLUSTER_53, GENDER_A, GENDER_C, GENDER_F, GENDER_J, GENDER_M, GENDER_U, P3 Solicitation Limit_0, P3 Solicitation Limit_00, P3 Solicitation Limit_01, P3 Solicitation Limit_02, P3 Solicitation Limit_12, In House Solicitation Limit_0, In House Solicitation Limit_00, In House Solicitation Limit_01, In House Solicitation Limit_02, In House Solicitation Limit_03, In House Solicitation Limit_04, In House Solicitation Limit_06, In House Solicitation Limit_12, Neighbhd/Socio-ec Status_C1, Neighbhd/Socio-ec Status_C2, Neighbhd/Socio-ec Status_C3, Neighbhd/Socio-ec Status_R1, ...]\n",
       "Index: []\n",
       "\n",
       "[0 rows x 112 columns]"
      ]
     },
     "execution_count": 13,
     "metadata": {},
     "output_type": "execute_result"
    }
   ],
   "source": [
    "pproc_df2[pproc_df2['AGE'].isnull()]"
   ]
  },
  {
   "cell_type": "code",
   "execution_count": 14,
   "metadata": {},
   "outputs": [],
   "source": [
    "target_etc_vars = ['Response (97NK Mail)', 'Amt Donated (97NK Mail)','Unnamed: 0']\n",
    "X = pproc_df2.loc[:, ~pproc_df2.columns.isin(target_etc_vars)]\n",
    "y = pproc_df2['Response (97NK Mail)']"
   ]
  },
  {
   "cell_type": "code",
   "execution_count": 15,
   "metadata": {},
   "outputs": [],
   "source": [
    "from sklearn.model_selection import train_test_split\n",
    "\n",
    "X_train, X_val, y_train, y_val = train_test_split(X, y, test_size = 0.4, random_state=0)"
   ]
  },
  {
   "cell_type": "code",
   "execution_count": 16,
   "metadata": {},
   "outputs": [],
   "source": [
    "from imblearn.over_sampling import SMOTE\n",
    "\n",
    "sm = SMOTE(random_state=0)\n",
    "sm_X_train, sm_y_train = sm.fit_sample(X_train, y_train)"
   ]
  },
  {
   "cell_type": "code",
   "execution_count": 17,
   "metadata": {},
   "outputs": [
    {
     "name": "stdout",
     "output_type": "stream",
     "text": [
      "total oversampled data:  108746\n",
      "total no response in oversampled data:  54373\n",
      "total response in oversampled data:  54373\n",
      "no response(%):  0.5\n",
      "response(%):  0.5\n"
     ]
    }
   ],
   "source": [
    "df_sm_X_train = pd.DataFrame(data=sm_X_train,columns=X_train.columns)\n",
    "df_sm_y_train = pd.DataFrame(data=sm_y_train,columns=['Response (97NK Mail)'])\n",
    "\n",
    "print(\"total oversampled data: \",len(df_sm_X_train))\n",
    "print(\"total no response in oversampled data: \",len(df_sm_y_train[df_sm_y_train['Response (97NK Mail)']==0]))\n",
    "print(\"total response in oversampled data: \",len(df_sm_y_train[df_sm_y_train['Response (97NK Mail)']==1]))\n",
    "print(\"no response(%): \",len(df_sm_y_train[df_sm_y_train['Response (97NK Mail)']==0])/len(df_sm_X_train))\n",
    "print(\"response(%): \",len(df_sm_y_train[df_sm_y_train['Response (97NK Mail)']==1])/len(df_sm_X_train))"
   ]
  },
  {
   "cell_type": "markdown",
   "metadata": {},
   "source": [
    "##### VARIABLE SELECTION "
   ]
  },
  {
   "cell_type": "markdown",
   "metadata": {},
   "source": [
    "Next, I will look at possible redundancies and multicollinearity to ensure independence between input variables in the dataset "
   ]
  },
  {
   "cell_type": "code",
   "execution_count": 18,
   "metadata": {},
   "outputs": [],
   "source": [
    "pproc_df.reset_index(inplace=True)\n",
    "df_index = pd.DataFrame(data=pproc_df, columns=['CONTROLN'])\n",
    "\n",
    "df_sm_Xy_train = df_sm_X_train.join(df_sm_y_train.join(df_index, lsuffix='_sm_y_train', rsuffix='_controln'),\n",
    "                                    rsuffix='_sm_y_train', lsuffix='_sm_X_train')"
   ]
  },
  {
   "cell_type": "code",
   "execution_count": 19,
   "metadata": {},
   "outputs": [
    {
     "data": {
      "text/plain": [
       "110"
      ]
     },
     "execution_count": 19,
     "metadata": {},
     "output_type": "execute_result"
    }
   ],
   "source": [
    "df_sm_Xy_train.set_index('CONTROLN', inplace=True)\n",
    "len(df_sm_Xy_train.columns.values)"
   ]
  },
  {
   "cell_type": "code",
   "execution_count": 20,
   "metadata": {},
   "outputs": [],
   "source": [
    "#Run correlation matrix\n",
    "\n",
    "#colormap = plt.cm.RdBu\n",
    "#plt.figure(figsize=(30,30))\n",
    "#plt.title('Pearson Correlation of Features', y=1.05, size=15)\n",
    "#sns.heatmap(df_sm_Xy_train.corr(),linewidths=0.1,vmax=1.0, \n",
    "#            square=True, cmap=colormap, linecolor='white', annot=True)"
   ]
  },
  {
   "cell_type": "code",
   "execution_count": 21,
   "metadata": {},
   "outputs": [
    {
     "data": {
      "text/plain": [
       "Index(['Donated to In House', 'Donated to P3', 'Has Planned Giving Record',\n",
       "       'AGE', 'No. of Mail Order Responses', 'Is a major donor',\n",
       "       'Median HomeVal (hundreds)', 'Avg HomeVal (hundreds)',\n",
       "       'Median Rent(hundreds)', 'Avg Rent(hundreds)',\n",
       "       'Median Hshold Incm (hundreds)', 'Median Family Incm (hundreds)',\n",
       "       'Avg Hshold Incm (hundreds)', 'Avg Family Incm (hundreds)',\n",
       "       'Per Capita Income', 'Total Amt (All Gifts)', 'Total No. (All Gifts)',\n",
       "       'Total No. (All Gifts:Promos)', 'Amt (Most Recent Gift)',\n",
       "       '2ndGft-1stGft(months)', 'Avg Amt (All Gifts)'],\n",
       "      dtype='object')"
      ]
     },
     "execution_count": 21,
     "metadata": {},
     "output_type": "execute_result"
    }
   ],
   "source": [
    "df_sm_Xy_train.columns[0:21]"
   ]
  },
  {
   "cell_type": "code",
   "execution_count": 22,
   "metadata": {},
   "outputs": [
    {
     "name": "stderr",
     "output_type": "stream",
     "text": [
      "c:\\users\\monica aguilar\\appdata\\local\\programs\\python\\python37-32\\lib\\site-packages\\ipykernel_launcher.py:7: SettingWithCopyWarning: \n",
      "A value is trying to be set on a copy of a slice from a DataFrame.\n",
      "Try using .loc[row_indexer,col_indexer] = value instead\n",
      "\n",
      "See the caveats in the documentation: http://pandas.pydata.org/pandas-docs/stable/indexing.html#indexing-view-versus-copy\n",
      "  import sys\n"
     ]
    }
   ],
   "source": [
    "#Calculate Variance Inflation Factor\n",
    "\n",
    "import statsmodels.api as sm\n",
    "from statsmodels.stats.outliers_influence import variance_inflation_factor\n",
    "\n",
    "df_sm_Xy_train_2 = df_sm_Xy_train[df_sm_Xy_train.columns[0:21]] #excludes all the dummified variables\n",
    "df_sm_Xy_train_2['ones'] = 1 #to avoid the issue here: https://stackoverflow.com/questions/42658379/variance-inflation-factor-in-python\n",
    "\n",
    "vif = pd.DataFrame()\n",
    "vif[\"VIF Factor\"] = [variance_inflation_factor(df_sm_Xy_train_2.values, i) for i in range(df_sm_Xy_train_2.shape[1])]\n",
    "vif[\"features\"] = df_sm_Xy_train_2.columns"
   ]
  },
  {
   "cell_type": "code",
   "execution_count": 23,
   "metadata": {},
   "outputs": [
    {
     "data": {
      "text/html": [
       "<div>\n",
       "<style scoped>\n",
       "    .dataframe tbody tr th:only-of-type {\n",
       "        vertical-align: middle;\n",
       "    }\n",
       "\n",
       "    .dataframe tbody tr th {\n",
       "        vertical-align: top;\n",
       "    }\n",
       "\n",
       "    .dataframe thead th {\n",
       "        text-align: right;\n",
       "    }\n",
       "</style>\n",
       "<table border=\"1\" class=\"dataframe\">\n",
       "  <thead>\n",
       "    <tr style=\"text-align: right;\">\n",
       "      <th></th>\n",
       "      <th>VIF Factor</th>\n",
       "      <th>features</th>\n",
       "    </tr>\n",
       "  </thead>\n",
       "  <tbody>\n",
       "    <tr>\n",
       "      <th>0</th>\n",
       "      <td>1.190487</td>\n",
       "      <td>Donated to In House</td>\n",
       "    </tr>\n",
       "    <tr>\n",
       "      <th>1</th>\n",
       "      <td>1.033342</td>\n",
       "      <td>Donated to P3</td>\n",
       "    </tr>\n",
       "    <tr>\n",
       "      <th>2</th>\n",
       "      <td>1.084891</td>\n",
       "      <td>Has Planned Giving Record</td>\n",
       "    </tr>\n",
       "    <tr>\n",
       "      <th>3</th>\n",
       "      <td>1.158587</td>\n",
       "      <td>AGE</td>\n",
       "    </tr>\n",
       "    <tr>\n",
       "      <th>4</th>\n",
       "      <td>1.027201</td>\n",
       "      <td>No. of Mail Order Responses</td>\n",
       "    </tr>\n",
       "    <tr>\n",
       "      <th>5</th>\n",
       "      <td>1.332693</td>\n",
       "      <td>Is a major donor</td>\n",
       "    </tr>\n",
       "    <tr>\n",
       "      <th>6</th>\n",
       "      <td>106.298040</td>\n",
       "      <td>Median HomeVal (hundreds)</td>\n",
       "    </tr>\n",
       "    <tr>\n",
       "      <th>7</th>\n",
       "      <td>112.572026</td>\n",
       "      <td>Avg HomeVal (hundreds)</td>\n",
       "    </tr>\n",
       "    <tr>\n",
       "      <th>8</th>\n",
       "      <td>13.044557</td>\n",
       "      <td>Median Rent(hundreds)</td>\n",
       "    </tr>\n",
       "    <tr>\n",
       "      <th>9</th>\n",
       "      <td>10.516507</td>\n",
       "      <td>Avg Rent(hundreds)</td>\n",
       "    </tr>\n",
       "    <tr>\n",
       "      <th>10</th>\n",
       "      <td>61.659758</td>\n",
       "      <td>Median Hshold Incm (hundreds)</td>\n",
       "    </tr>\n",
       "    <tr>\n",
       "      <th>11</th>\n",
       "      <td>53.983893</td>\n",
       "      <td>Median Family Incm (hundreds)</td>\n",
       "    </tr>\n",
       "    <tr>\n",
       "      <th>12</th>\n",
       "      <td>109.040002</td>\n",
       "      <td>Avg Hshold Incm (hundreds)</td>\n",
       "    </tr>\n",
       "    <tr>\n",
       "      <th>13</th>\n",
       "      <td>86.597620</td>\n",
       "      <td>Avg Family Incm (hundreds)</td>\n",
       "    </tr>\n",
       "    <tr>\n",
       "      <th>14</th>\n",
       "      <td>5.688700</td>\n",
       "      <td>Per Capita Income</td>\n",
       "    </tr>\n",
       "    <tr>\n",
       "      <th>15</th>\n",
       "      <td>3.200847</td>\n",
       "      <td>Total Amt (All Gifts)</td>\n",
       "    </tr>\n",
       "    <tr>\n",
       "      <th>16</th>\n",
       "      <td>9.037131</td>\n",
       "      <td>Total No. (All Gifts)</td>\n",
       "    </tr>\n",
       "    <tr>\n",
       "      <th>17</th>\n",
       "      <td>6.596543</td>\n",
       "      <td>Total No. (All Gifts:Promos)</td>\n",
       "    </tr>\n",
       "    <tr>\n",
       "      <th>18</th>\n",
       "      <td>2.758022</td>\n",
       "      <td>Amt (Most Recent Gift)</td>\n",
       "    </tr>\n",
       "    <tr>\n",
       "      <th>19</th>\n",
       "      <td>1.014935</td>\n",
       "      <td>2ndGft-1stGft(months)</td>\n",
       "    </tr>\n",
       "    <tr>\n",
       "      <th>20</th>\n",
       "      <td>3.472402</td>\n",
       "      <td>Avg Amt (All Gifts)</td>\n",
       "    </tr>\n",
       "    <tr>\n",
       "      <th>21</th>\n",
       "      <td>40.819402</td>\n",
       "      <td>ones</td>\n",
       "    </tr>\n",
       "  </tbody>\n",
       "</table>\n",
       "</div>"
      ],
      "text/plain": [
       "    VIF Factor                       features\n",
       "0     1.190487            Donated to In House\n",
       "1     1.033342                  Donated to P3\n",
       "2     1.084891      Has Planned Giving Record\n",
       "3     1.158587                            AGE\n",
       "4     1.027201    No. of Mail Order Responses\n",
       "5     1.332693               Is a major donor\n",
       "6   106.298040      Median HomeVal (hundreds)\n",
       "7   112.572026         Avg HomeVal (hundreds)\n",
       "8    13.044557          Median Rent(hundreds)\n",
       "9    10.516507             Avg Rent(hundreds)\n",
       "10   61.659758  Median Hshold Incm (hundreds)\n",
       "11   53.983893  Median Family Incm (hundreds)\n",
       "12  109.040002     Avg Hshold Incm (hundreds)\n",
       "13   86.597620     Avg Family Incm (hundreds)\n",
       "14    5.688700              Per Capita Income\n",
       "15    3.200847          Total Amt (All Gifts)\n",
       "16    9.037131          Total No. (All Gifts)\n",
       "17    6.596543   Total No. (All Gifts:Promos)\n",
       "18    2.758022         Amt (Most Recent Gift)\n",
       "19    1.014935          2ndGft-1stGft(months)\n",
       "20    3.472402            Avg Amt (All Gifts)\n",
       "21   40.819402                           ones"
      ]
     },
     "execution_count": 23,
     "metadata": {},
     "output_type": "execute_result"
    }
   ],
   "source": [
    "vif\n",
    "\n",
    "#issue mentioned above does not seem to affect the vif, whether there are ones or none (I ran both)"
   ]
  },
  {
   "cell_type": "code",
   "execution_count": 24,
   "metadata": {},
   "outputs": [],
   "source": [
    "#saving a reference file so I won't need to run again in the future\n",
    "\n",
    "vif_csv = vif.to_csv('D:\\Python Stuff\\pva97nk_py_train_vif.csv')"
   ]
  },
  {
   "cell_type": "markdown",
   "metadata": {},
   "source": [
    "Let's study all non-dummified variables with VIF > 5 and choose which ones to retain:"
   ]
  },
  {
   "cell_type": "code",
   "execution_count": 25,
   "metadata": {},
   "outputs": [
    {
     "data": {
      "text/html": [
       "<div>\n",
       "<style scoped>\n",
       "    .dataframe tbody tr th:only-of-type {\n",
       "        vertical-align: middle;\n",
       "    }\n",
       "\n",
       "    .dataframe tbody tr th {\n",
       "        vertical-align: top;\n",
       "    }\n",
       "\n",
       "    .dataframe thead th {\n",
       "        text-align: right;\n",
       "    }\n",
       "</style>\n",
       "<table border=\"1\" class=\"dataframe\">\n",
       "  <thead>\n",
       "    <tr style=\"text-align: right;\">\n",
       "      <th></th>\n",
       "      <th>VIF Factor</th>\n",
       "      <th>features</th>\n",
       "    </tr>\n",
       "  </thead>\n",
       "  <tbody>\n",
       "    <tr>\n",
       "      <th>6</th>\n",
       "      <td>106.298040</td>\n",
       "      <td>Median HomeVal (hundreds)</td>\n",
       "    </tr>\n",
       "    <tr>\n",
       "      <th>7</th>\n",
       "      <td>112.572026</td>\n",
       "      <td>Avg HomeVal (hundreds)</td>\n",
       "    </tr>\n",
       "    <tr>\n",
       "      <th>8</th>\n",
       "      <td>13.044557</td>\n",
       "      <td>Median Rent(hundreds)</td>\n",
       "    </tr>\n",
       "    <tr>\n",
       "      <th>9</th>\n",
       "      <td>10.516507</td>\n",
       "      <td>Avg Rent(hundreds)</td>\n",
       "    </tr>\n",
       "    <tr>\n",
       "      <th>10</th>\n",
       "      <td>61.659758</td>\n",
       "      <td>Median Hshold Incm (hundreds)</td>\n",
       "    </tr>\n",
       "    <tr>\n",
       "      <th>11</th>\n",
       "      <td>53.983893</td>\n",
       "      <td>Median Family Incm (hundreds)</td>\n",
       "    </tr>\n",
       "    <tr>\n",
       "      <th>12</th>\n",
       "      <td>109.040002</td>\n",
       "      <td>Avg Hshold Incm (hundreds)</td>\n",
       "    </tr>\n",
       "    <tr>\n",
       "      <th>13</th>\n",
       "      <td>86.597620</td>\n",
       "      <td>Avg Family Incm (hundreds)</td>\n",
       "    </tr>\n",
       "    <tr>\n",
       "      <th>14</th>\n",
       "      <td>5.688700</td>\n",
       "      <td>Per Capita Income</td>\n",
       "    </tr>\n",
       "    <tr>\n",
       "      <th>16</th>\n",
       "      <td>9.037131</td>\n",
       "      <td>Total No. (All Gifts)</td>\n",
       "    </tr>\n",
       "    <tr>\n",
       "      <th>17</th>\n",
       "      <td>6.596543</td>\n",
       "      <td>Total No. (All Gifts:Promos)</td>\n",
       "    </tr>\n",
       "    <tr>\n",
       "      <th>21</th>\n",
       "      <td>40.819402</td>\n",
       "      <td>ones</td>\n",
       "    </tr>\n",
       "  </tbody>\n",
       "</table>\n",
       "</div>"
      ],
      "text/plain": [
       "    VIF Factor                       features\n",
       "6   106.298040      Median HomeVal (hundreds)\n",
       "7   112.572026         Avg HomeVal (hundreds)\n",
       "8    13.044557          Median Rent(hundreds)\n",
       "9    10.516507             Avg Rent(hundreds)\n",
       "10   61.659758  Median Hshold Incm (hundreds)\n",
       "11   53.983893  Median Family Incm (hundreds)\n",
       "12  109.040002     Avg Hshold Incm (hundreds)\n",
       "13   86.597620     Avg Family Incm (hundreds)\n",
       "14    5.688700              Per Capita Income\n",
       "16    9.037131          Total No. (All Gifts)\n",
       "17    6.596543   Total No. (All Gifts:Promos)\n",
       "21   40.819402                           ones"
      ]
     },
     "execution_count": 25,
     "metadata": {},
     "output_type": "execute_result"
    }
   ],
   "source": [
    "filtervif = vif[(vif[\"VIF Factor\"] > 5) & (vif[\"VIF Factor\"] != np.inf)]\n",
    "filtervif"
   ]
  },
  {
   "cell_type": "markdown",
   "metadata": {},
   "source": [
    "I will retain Median Family Incm (hundreds) and remove Avgs (incl Per Capita Income) to make the dataset more robust to outliers. Both Median HomeVal(hundreds) and Median Rent(hundreds) are approximations of wealth, but Median Family Incm can represent that. Median Family Incm seems to be a better measure of wealth since some households may have more than one family. I will also retain Total No. (All Gifts:Promos) since this ratio captures willingness to respond to promos vs a simple total amount of all gifts.\n",
    "<p>These further variable selections will be applied to the entire dataset, so that when we test the model later on, it will be comparable and efficient."
   ]
  },
  {
   "cell_type": "code",
   "execution_count": 26,
   "metadata": {},
   "outputs": [],
   "source": [
    "#df_y_val = pd.DataFrame(y_val)\n",
    "#df_Xy_val = X_val.join(df_y_val.join(df_index, lsuffix='_y_val', rsuffix='_controln'),\n",
    "#                                    rsuffix='_y_val', lsuffix='_X_val')"
   ]
  },
  {
   "cell_type": "code",
   "execution_count": 27,
   "metadata": {},
   "outputs": [],
   "source": [
    "#df_Xy_val.set_index('CONTROLN', inplace=True)"
   ]
  },
  {
   "cell_type": "code",
   "execution_count": 28,
   "metadata": {},
   "outputs": [],
   "source": [
    "df_sm_Xy_train_drp = df_sm_Xy_train.drop(['Avg HomeVal (hundreds)','Avg Rent(hundreds)','Median Hshold Incm (hundreds)',\n",
    "                                          'Avg Hshold Incm (hundreds)','Avg Family Incm (hundreds)',\n",
    "                                          'Total No. (All Gifts)','Per Capita Income','Median Rent(hundreds)',\n",
    "                                         'Median HomeVal (hundreds)'], axis=1)\n",
    "#df_Xy_val_drp = df_Xy_val.drop(['Avg HomeVal (hundreds)','Avg Rent(hundreds)','Avg Hshold Incm (hundreds)',\n",
    "#                                         'Avg Family Incm (hundreds)','Total No. (All Gifts)'], axis=1)"
   ]
  },
  {
   "cell_type": "code",
   "execution_count": 29,
   "metadata": {},
   "outputs": [
    {
     "data": {
      "text/plain": [
       "array(['Donated to In House', 'Donated to P3',\n",
       "       'Has Planned Giving Record', 'AGE', 'No. of Mail Order Responses',\n",
       "       'Is a major donor', 'Median Family Incm (hundreds)',\n",
       "       'Total Amt (All Gifts)', 'Total No. (All Gifts:Promos)',\n",
       "       'Amt (Most Recent Gift)', '2ndGft-1stGft(months)',\n",
       "       'Avg Amt (All Gifts)', 'CLUSTER_01', 'CLUSTER_02', 'CLUSTER_03',\n",
       "       'CLUSTER_04', 'CLUSTER_05', 'CLUSTER_06', 'CLUSTER_07',\n",
       "       'CLUSTER_08', 'CLUSTER_09', 'CLUSTER_10', 'CLUSTER_11',\n",
       "       'CLUSTER_12', 'CLUSTER_13', 'CLUSTER_14', 'CLUSTER_15',\n",
       "       'CLUSTER_16', 'CLUSTER_17', 'CLUSTER_18', 'CLUSTER_19',\n",
       "       'CLUSTER_20', 'CLUSTER_21', 'CLUSTER_22', 'CLUSTER_23',\n",
       "       'CLUSTER_24', 'CLUSTER_25', 'CLUSTER_26', 'CLUSTER_27',\n",
       "       'CLUSTER_28', 'CLUSTER_29', 'CLUSTER_30', 'CLUSTER_31',\n",
       "       'CLUSTER_32', 'CLUSTER_33', 'CLUSTER_34', 'CLUSTER_35',\n",
       "       'CLUSTER_36', 'CLUSTER_37', 'CLUSTER_38', 'CLUSTER_39',\n",
       "       'CLUSTER_40', 'CLUSTER_41', 'CLUSTER_42', 'CLUSTER_43',\n",
       "       'CLUSTER_44', 'CLUSTER_45', 'CLUSTER_46', 'CLUSTER_47',\n",
       "       'CLUSTER_48', 'CLUSTER_49', 'CLUSTER_50', 'CLUSTER_51',\n",
       "       'CLUSTER_52', 'CLUSTER_53', 'GENDER_A', 'GENDER_C', 'GENDER_F',\n",
       "       'GENDER_J', 'GENDER_M', 'GENDER_U', 'P3 Solicitation Limit_0',\n",
       "       'P3 Solicitation Limit_00', 'P3 Solicitation Limit_01',\n",
       "       'P3 Solicitation Limit_02', 'P3 Solicitation Limit_12',\n",
       "       'In House Solicitation Limit_0', 'In House Solicitation Limit_00',\n",
       "       'In House Solicitation Limit_01', 'In House Solicitation Limit_02',\n",
       "       'In House Solicitation Limit_03', 'In House Solicitation Limit_04',\n",
       "       'In House Solicitation Limit_06', 'In House Solicitation Limit_12',\n",
       "       'Neighbhd/Socio-ec Status_C1', 'Neighbhd/Socio-ec Status_C2',\n",
       "       'Neighbhd/Socio-ec Status_C3', 'Neighbhd/Socio-ec Status_R1',\n",
       "       'Neighbhd/Socio-ec Status_R2', 'Neighbhd/Socio-ec Status_R3',\n",
       "       'Neighbhd/Socio-ec Status_S1', 'Neighbhd/Socio-ec Status_S2',\n",
       "       'Neighbhd/Socio-ec Status_S3', 'Neighbhd/Socio-ec Status_T1',\n",
       "       'Neighbhd/Socio-ec Status_T2', 'Neighbhd/Socio-ec Status_T3',\n",
       "       'Neighbhd/Socio-ec Status_U1', 'Neighbhd/Socio-ec Status_U2',\n",
       "       'Neighbhd/Socio-ec Status_U3', 'Neighbhd/Socio-ec Status_U4',\n",
       "       'Response (97NK Mail)'], dtype=object)"
      ]
     },
     "execution_count": 29,
     "metadata": {},
     "output_type": "execute_result"
    }
   ],
   "source": [
    "df_sm_Xy_train_drp.columns.values"
   ]
  },
  {
   "cell_type": "code",
   "execution_count": 30,
   "metadata": {},
   "outputs": [
    {
     "name": "stderr",
     "output_type": "stream",
     "text": [
      "c:\\users\\monica aguilar\\appdata\\local\\programs\\python\\python37-32\\lib\\site-packages\\ipykernel_launcher.py:4: SettingWithCopyWarning: \n",
      "A value is trying to be set on a copy of a slice from a DataFrame.\n",
      "Try using .loc[row_indexer,col_indexer] = value instead\n",
      "\n",
      "See the caveats in the documentation: http://pandas.pydata.org/pandas-docs/stable/indexing.html#indexing-view-versus-copy\n",
      "  after removing the cwd from sys.path.\n"
     ]
    },
    {
     "data": {
      "text/html": [
       "<div>\n",
       "<style scoped>\n",
       "    .dataframe tbody tr th:only-of-type {\n",
       "        vertical-align: middle;\n",
       "    }\n",
       "\n",
       "    .dataframe tbody tr th {\n",
       "        vertical-align: top;\n",
       "    }\n",
       "\n",
       "    .dataframe thead th {\n",
       "        text-align: right;\n",
       "    }\n",
       "</style>\n",
       "<table border=\"1\" class=\"dataframe\">\n",
       "  <thead>\n",
       "    <tr style=\"text-align: right;\">\n",
       "      <th></th>\n",
       "      <th>VIF Factor</th>\n",
       "      <th>features</th>\n",
       "    </tr>\n",
       "  </thead>\n",
       "  <tbody>\n",
       "    <tr>\n",
       "      <th>0</th>\n",
       "      <td>1.135595</td>\n",
       "      <td>Donated to In House</td>\n",
       "    </tr>\n",
       "    <tr>\n",
       "      <th>1</th>\n",
       "      <td>1.024621</td>\n",
       "      <td>Donated to P3</td>\n",
       "    </tr>\n",
       "    <tr>\n",
       "      <th>2</th>\n",
       "      <td>1.083903</td>\n",
       "      <td>Has Planned Giving Record</td>\n",
       "    </tr>\n",
       "    <tr>\n",
       "      <th>3</th>\n",
       "      <td>1.123619</td>\n",
       "      <td>AGE</td>\n",
       "    </tr>\n",
       "    <tr>\n",
       "      <th>4</th>\n",
       "      <td>1.024062</td>\n",
       "      <td>No. of Mail Order Responses</td>\n",
       "    </tr>\n",
       "    <tr>\n",
       "      <th>5</th>\n",
       "      <td>1.318655</td>\n",
       "      <td>Is a major donor</td>\n",
       "    </tr>\n",
       "    <tr>\n",
       "      <th>6</th>\n",
       "      <td>1.023531</td>\n",
       "      <td>Median Family Incm (hundreds)</td>\n",
       "    </tr>\n",
       "    <tr>\n",
       "      <th>7</th>\n",
       "      <td>2.448033</td>\n",
       "      <td>Total Amt (All Gifts)</td>\n",
       "    </tr>\n",
       "    <tr>\n",
       "      <th>8</th>\n",
       "      <td>2.032656</td>\n",
       "      <td>Total No. (All Gifts:Promos)</td>\n",
       "    </tr>\n",
       "    <tr>\n",
       "      <th>9</th>\n",
       "      <td>2.755227</td>\n",
       "      <td>Amt (Most Recent Gift)</td>\n",
       "    </tr>\n",
       "    <tr>\n",
       "      <th>10</th>\n",
       "      <td>1.010930</td>\n",
       "      <td>2ndGft-1stGft(months)</td>\n",
       "    </tr>\n",
       "    <tr>\n",
       "      <th>11</th>\n",
       "      <td>3.280972</td>\n",
       "      <td>Avg Amt (All Gifts)</td>\n",
       "    </tr>\n",
       "    <tr>\n",
       "      <th>12</th>\n",
       "      <td>34.032230</td>\n",
       "      <td>ones</td>\n",
       "    </tr>\n",
       "  </tbody>\n",
       "</table>\n",
       "</div>"
      ],
      "text/plain": [
       "    VIF Factor                       features\n",
       "0     1.135595            Donated to In House\n",
       "1     1.024621                  Donated to P3\n",
       "2     1.083903      Has Planned Giving Record\n",
       "3     1.123619                            AGE\n",
       "4     1.024062    No. of Mail Order Responses\n",
       "5     1.318655               Is a major donor\n",
       "6     1.023531  Median Family Incm (hundreds)\n",
       "7     2.448033          Total Amt (All Gifts)\n",
       "8     2.032656   Total No. (All Gifts:Promos)\n",
       "9     2.755227         Amt (Most Recent Gift)\n",
       "10    1.010930          2ndGft-1stGft(months)\n",
       "11    3.280972            Avg Amt (All Gifts)\n",
       "12   34.032230                           ones"
      ]
     },
     "execution_count": 30,
     "metadata": {},
     "output_type": "execute_result"
    }
   ],
   "source": [
    "#But before re-sampling I will re-check the VIF again, just to be sure\n",
    "\n",
    "df_sm_Xy_train_drp2 = df_sm_Xy_train_drp[df_sm_Xy_train_drp.columns[0:12]]\n",
    "df_sm_Xy_train_drp2['ones'] = 1\n",
    "\n",
    "vif2 = pd.DataFrame()\n",
    "vif2[\"VIF Factor\"] = [variance_inflation_factor(df_sm_Xy_train_drp2.values, i) for i in range(df_sm_Xy_train_drp2.shape[1])]\n",
    "vif2[\"features\"] = df_sm_Xy_train_drp2.columns\n",
    "vif2"
   ]
  },
  {
   "cell_type": "markdown",
   "metadata": {},
   "source": [
    "This time around, the \"ones\" had an effect on the VIF."
   ]
  },
  {
   "cell_type": "markdown",
   "metadata": {},
   "source": [
    "The final columns are now going to be everything in df_sm_Xy_train_drp.columns.values"
   ]
  },
  {
   "cell_type": "markdown",
   "metadata": {},
   "source": [
    "##### SAMPLING v2"
   ]
  },
  {
   "cell_type": "markdown",
   "metadata": {},
   "source": [
    "Important note for documentation purposes: My first run of the logistic regression is bad (only 57% accuracy). I will try to re-run without the dummified variables and see if it makes a difference."
   ]
  },
  {
   "cell_type": "code",
   "execution_count": 189,
   "metadata": {},
   "outputs": [
    {
     "data": {
      "text/plain": [
       "['Donated to In House',\n",
       " 'Donated to P3',\n",
       " 'Has Planned Giving Record',\n",
       " 'AGE',\n",
       " 'No. of Mail Order Responses',\n",
       " 'Is a major donor',\n",
       " 'Median Family Incm (hundreds)',\n",
       " 'Total Amt (All Gifts)',\n",
       " 'Total No. (All Gifts:Promos)',\n",
       " 'Amt (Most Recent Gift)',\n",
       " '2ndGft-1stGft(months)',\n",
       " 'Avg Amt (All Gifts)',\n",
       " 'P3 Solicitation Limit_0',\n",
       " 'P3 Solicitation Limit_00',\n",
       " 'P3 Solicitation Limit_01',\n",
       " 'P3 Solicitation Limit_02',\n",
       " 'P3 Solicitation Limit_12',\n",
       " 'In House Solicitation Limit_0',\n",
       " 'In House Solicitation Limit_00',\n",
       " 'In House Solicitation Limit_01',\n",
       " 'In House Solicitation Limit_02',\n",
       " 'In House Solicitation Limit_03',\n",
       " 'In House Solicitation Limit_04',\n",
       " 'In House Solicitation Limit_06',\n",
       " 'In House Solicitation Limit_12']"
      ]
     },
     "execution_count": 189,
     "metadata": {},
     "output_type": "execute_result"
    }
   ],
   "source": [
    "X_list = [x for x in df_sm_Xy_train_drp.columns[0:12]]\n",
    "temp = ['P3 Solicitation Limit_0',\n",
    "       'P3 Solicitation Limit_00', 'P3 Solicitation Limit_01',\n",
    "       'P3 Solicitation Limit_02', 'P3 Solicitation Limit_12',\n",
    "       'In House Solicitation Limit_0', 'In House Solicitation Limit_00',\n",
    "       'In House Solicitation Limit_01', 'In House Solicitation Limit_02',\n",
    "       'In House Solicitation Limit_03', 'In House Solicitation Limit_04',\n",
    "       'In House Solicitation Limit_06', 'In House Solicitation Limit_12',]\n",
    "temp_X = X_list + temp\n",
    "temp_X"
   ]
  },
  {
   "cell_type": "code",
   "execution_count": 227,
   "metadata": {},
   "outputs": [],
   "source": [
    "X_v2 = pproc_df2.loc[:, pproc_df2.columns.isin(postlogit2_cols)] #older version used temp_X instead of postlogit2_cols\n",
    "y_v2 = pproc_df2['Response (97NK Mail)']"
   ]
  },
  {
   "cell_type": "code",
   "execution_count": 240,
   "metadata": {},
   "outputs": [
    {
     "data": {
      "text/plain": [
       "Index(['Donated to In House', 'Donated to P3', 'Is a major donor',\n",
       "       'Total No. (All Gifts:Promos)', 'Amt (Most Recent Gift)'],\n",
       "      dtype='object')"
      ]
     },
     "execution_count": 240,
     "metadata": {},
     "output_type": "execute_result"
    }
   ],
   "source": [
    "X_v2.columns"
   ]
  },
  {
   "cell_type": "code",
   "execution_count": 228,
   "metadata": {},
   "outputs": [],
   "source": [
    "from sklearn.model_selection import train_test_split\n",
    "\n",
    "X_v2_train, X_v2_val, y_v2_train, y_v2_val = train_test_split(X_v2, y_v2, test_size = 0.6, random_state=0)"
   ]
  },
  {
   "cell_type": "code",
   "execution_count": 229,
   "metadata": {},
   "outputs": [
    {
     "name": "stdout",
     "output_type": "stream",
     "text": [
      "0    36267\n",
      "1     1897\n",
      "Name: Response (97NK Mail), dtype: int64\n"
     ]
    }
   ],
   "source": [
    "#just testing out the proportions pre-SMOTE\n",
    "\n",
    "dummydf = pd.DataFrame(y_v2_train)\n",
    "print(dummydf['Response (97NK Mail)'].value_counts())"
   ]
  },
  {
   "cell_type": "code",
   "execution_count": 230,
   "metadata": {},
   "outputs": [],
   "source": [
    "from imblearn.over_sampling import SMOTE\n",
    "\n",
    "sm = SMOTE(random_state=0)\n",
    "sm_X_v2_train, sm_y_v2_train = sm.fit_sample(X_v2_train, y_v2_train)"
   ]
  },
  {
   "cell_type": "code",
   "execution_count": 231,
   "metadata": {},
   "outputs": [
    {
     "name": "stdout",
     "output_type": "stream",
     "text": [
      "1    36267\n",
      "0    36267\n",
      "Name: 0, dtype: int64\n"
     ]
    }
   ],
   "source": [
    "#just testing out the proportions after-SMOTE\n",
    "\n",
    "dummydf2 = pd.DataFrame(sm_y_v2_train)\n",
    "print(dummydf2[0].value_counts())"
   ]
  },
  {
   "cell_type": "code",
   "execution_count": 232,
   "metadata": {},
   "outputs": [
    {
     "name": "stdout",
     "output_type": "stream",
     "text": [
      "total oversampled dataset:  72534\n",
      "1    36267\n",
      "0    36267\n",
      "Name: Response (97NK Mail), dtype: int64\n",
      "no response(%):  0.5\n",
      "response(%):  0.5\n",
      "===\n",
      "total validation dataset:  57247\n",
      "0    54302\n",
      "1     2945\n",
      "Name: Response (97NK Mail), dtype: int64\n"
     ]
    }
   ],
   "source": [
    "#further sanity check before implementing the model\n",
    "\n",
    "df_sm_X_v2_train = pd.DataFrame(data=sm_X_v2_train,columns=X_v2_train.columns)\n",
    "df_sm_y_v2_train = pd.DataFrame(data=sm_y_v2_train,columns=['Response (97NK Mail)'])\n",
    "\n",
    "print(\"total oversampled dataset: \",len(df_sm_X_v2_train))\n",
    "print(df_sm_y_v2_train['Response (97NK Mail)'].value_counts())\n",
    "print(\"no response(%): \",len(df_sm_y_v2_train[df_sm_y_v2_train['Response (97NK Mail)']==0])/len(df_sm_X_v2_train))\n",
    "print(\"response(%): \",len(df_sm_y_v2_train[df_sm_y_v2_train['Response (97NK Mail)']==1])/len(df_sm_X_v2_train))\n",
    "print(\"===\")\n",
    "print(\"total validation dataset: \",len(X_v2_val))\n",
    "df_y_v2_val = pd.DataFrame(y_v2_val)\n",
    "print(df_y_v2_val['Response (97NK Mail)'].value_counts())"
   ]
  },
  {
   "cell_type": "code",
   "execution_count": 197,
   "metadata": {},
   "outputs": [
    {
     "name": "stdout",
     "output_type": "stream",
     "text": [
      "[ True  True  True False False  True False False  True  True  True False\n",
      "  True  True  True  True  True  True  True  True  True  True  True  True\n",
      "  True]\n",
      "[1 1 1 3 4 1 5 6 1 1 1 2 1 1 1 1 1 1 1 1 1 1 1 1 1]\n"
     ]
    }
   ],
   "source": [
    "#Recursive Feature Elimination\n",
    "\n",
    "from sklearn.feature_selection import RFE\n",
    "from sklearn.linear_model import LogisticRegression\n",
    "\n",
    "logreg = LogisticRegression(multi_class='ovr',solver='liblinear')\n",
    "rfe = RFE(logreg, 20)\n",
    "rfe = rfe.fit(df_sm_X_v2_train, df_sm_y_v2_train.values.ravel())\n",
    "print(rfe.support_)\n",
    "print(rfe.ranking_)"
   ]
  },
  {
   "cell_type": "code",
   "execution_count": 212,
   "metadata": {},
   "outputs": [],
   "source": [
    "postrfe_cols = ['Donated to In House','Donated to P3','Has Planned Giving Record','Is a major donor',\n",
    "                'Total No. (All Gifts:Promos)','Amt (Most Recent Gift)','2ndGft-1stGft(months)','P3 Solicitation Limit_0',\n",
    "                'P3 Solicitation Limit_00','P3 Solicitation Limit_01','P3 Solicitation Limit_02','P3 Solicitation Limit_12',\n",
    "                'In House Solicitation Limit_0','In House Solicitation Limit_00','In House Solicitation Limit_01',\n",
    "                'In House Solicitation Limit_02','In House Solicitation Limit_03','In House Solicitation Limit_04',\n",
    "                'In House Solicitation Limit_06','In House Solicitation Limit_12']\n",
    "postrfe_df_sm_X_v2_train = df_sm_Xy_train_drp[postrfe_cols]\n",
    "df_sm_y_v2_train = df_sm_Xy_train_drp['Response (97NK Mail)']"
   ]
  },
  {
   "cell_type": "code",
   "execution_count": 213,
   "metadata": {},
   "outputs": [
    {
     "name": "stdout",
     "output_type": "stream",
     "text": [
      "Warning: Maximum number of iterations has been exceeded.\n",
      "         Current function value: 0.678727\n",
      "         Iterations: 35\n"
     ]
    },
    {
     "name": "stderr",
     "output_type": "stream",
     "text": [
      "c:\\users\\monica aguilar\\appdata\\local\\programs\\python\\python37-32\\lib\\site-packages\\statsmodels\\base\\model.py:508: ConvergenceWarning: Maximum Likelihood optimization failed to converge. Check mle_retvals\n",
      "  \"Check mle_retvals\", ConvergenceWarning)\n"
     ]
    },
    {
     "name": "stdout",
     "output_type": "stream",
     "text": [
      "                                       Results: Logit\n",
      "============================================================================================\n",
      "Model:                      Logit                       Pseudo R-squared:        0.021      \n",
      "Dependent Variable:         Response (97NK Mail)        AIC:                     147655.6312\n",
      "Date:                       2019-04-23 15:44            BIC:                     147837.9698\n",
      "No. Observations:           108746                      Log-Likelihood:          -73809.    \n",
      "Df Model:                   18                          LL-Null:                 -75377.    \n",
      "Df Residuals:               108727                      LLR p-value:             0.0000     \n",
      "Converged:                  0.0000                      Scale:                   1.0000     \n",
      "No. Iterations:             35.0000                                                         \n",
      "--------------------------------------------------------------------------------------------\n",
      "                                Coef.     Std.Err.     z     P>|z|     [0.025       0.975]  \n",
      "--------------------------------------------------------------------------------------------\n",
      "Donated to In House              0.5504      0.0431  12.7736 0.0000       0.4660      0.6349\n",
      "Donated to P3                    0.5583      0.0451  12.3737 0.0000       0.4699      0.6467\n",
      "Has Planned Giving Record       -0.4303      0.2097  -2.0519 0.0402      -0.8413     -0.0193\n",
      "Is a major donor                 1.3460      0.1575   8.5447 0.0000       1.0373      1.6548\n",
      "Total No. (All Gifts:Promos)     0.0371      0.0015  24.1105 0.0000       0.0341      0.0401\n",
      "Amt (Most Recent Gift)          -0.0247      0.0008 -31.5296 0.0000      -0.0262     -0.0231\n",
      "2ndGft-1stGft(months)           -0.0023      0.0010  -2.1791 0.0293      -0.0043     -0.0002\n",
      "P3 Solicitation Limit_0         -0.3193 211309.4395  -0.0000 1.0000 -414159.2104 414158.5717\n",
      "P3 Solicitation Limit_00        -0.5302 211309.4395  -0.0000 1.0000 -414159.4212 414158.3609\n",
      "P3 Solicitation Limit_01         0.5231 211309.4395   0.0000 1.0000 -414158.3679 414159.4142\n",
      "P3 Solicitation Limit_02         1.9228 211309.4395   0.0000 1.0000 -414156.9682 414160.8139\n",
      "P3 Solicitation Limit_12       -23.5806 211577.1753  -0.0001 0.9999 -414707.2241 414660.0628\n",
      "In House Solicitation Limit_0    0.5021 211309.4395   0.0000 1.0000 -414158.3890 414159.3932\n",
      "In House Solicitation Limit_00  -0.1276 211309.4395  -0.0000 1.0000 -414159.0186 414158.7635\n",
      "In House Solicitation Limit_01  -1.0533 211309.4395  -0.0000 1.0000 -414159.9444 414157.8378\n",
      "In House Solicitation Limit_02  -0.4351 211309.4395  -0.0000 1.0000 -414159.3261 414158.4560\n",
      "In House Solicitation Limit_03 -11.2202 211309.4502  -0.0001 1.0000 -414170.1321 414147.6917\n",
      "In House Solicitation Limit_04   1.8537 211309.4395   0.0000 1.0000 -414157.0373 414160.7448\n",
      "In House Solicitation Limit_06 -11.4556 211309.5541  -0.0001 1.0000 -414170.5713 414147.6601\n",
      "In House Solicitation Limit_12  -0.0482 211309.4395  -0.0000 1.0000 -414158.9393 414158.8428\n",
      "============================================================================================\n",
      "\n"
     ]
    }
   ],
   "source": [
    "import statsmodels.api as sm\n",
    "logit_model=sm.Logit(df_sm_y_v2_train,postrfe_df_sm_X_v2_train)\n",
    "result=logit_model.fit()\n",
    "print(result.summary2())"
   ]
  },
  {
   "cell_type": "code",
   "execution_count": 214,
   "metadata": {},
   "outputs": [
    {
     "name": "stdout",
     "output_type": "stream",
     "text": [
      "Optimization terminated successfully.\n",
      "         Current function value: 0.680734\n",
      "         Iterations 6\n",
      "                               Results: Logit\n",
      "=============================================================================\n",
      "Model:                 Logit                  Pseudo R-squared:   0.018      \n",
      "Dependent Variable:    Response (97NK Mail)   AIC:                148068.1616\n",
      "Date:                  2019-04-23 15:48       BIC:                148135.3389\n",
      "No. Observations:      108746                 Log-Likelihood:     -74027.    \n",
      "Df Model:              6                      LL-Null:            -75377.    \n",
      "Df Residuals:          108739                 LLR p-value:        0.0000     \n",
      "Converged:             1.0000                 Scale:              1.0000     \n",
      "No. Iterations:        6.0000                                                \n",
      "-----------------------------------------------------------------------------\n",
      "                              Coef.  Std.Err.    z     P>|z|   [0.025  0.975]\n",
      "-----------------------------------------------------------------------------\n",
      "Donated to In House           0.1382   0.0264   5.2382 0.0000  0.0865  0.1899\n",
      "Donated to P3                 0.5289   0.0433  12.2192 0.0000  0.4440  0.6137\n",
      "Has Planned Giving Record    -0.3963   0.2038  -1.9447 0.0518 -0.7957  0.0031\n",
      "Is a major donor              0.8096   0.1490   5.4343 0.0000  0.5176  1.1016\n",
      "Total No. (All Gifts:Promos)  0.0458   0.0012  37.7920 0.0000  0.0434  0.0482\n",
      "Amt (Most Recent Gift)       -0.0193   0.0005 -36.4848 0.0000 -0.0203 -0.0183\n",
      "2ndGft-1stGft(months)         0.0014   0.0009   1.4393 0.1501 -0.0005  0.0032\n",
      "=============================================================================\n",
      "\n"
     ]
    }
   ],
   "source": [
    "postlogit_cols = ['Donated to In House','Donated to P3','Has Planned Giving Record','Is a major donor',\n",
    "                'Total No. (All Gifts:Promos)','Amt (Most Recent Gift)','2ndGft-1stGft(months)']\n",
    "postlogit_df_sm_X_v2_train = df_sm_Xy_train_drp[postlogit_cols]\n",
    "df_sm_y_v2_train = df_sm_Xy_train_drp['Response (97NK Mail)']\n",
    "\n",
    "logit_model=sm.Logit(df_sm_y_v2_train,postlogit_df_sm_X_v2_train)\n",
    "result=logit_model.fit()\n",
    "print(result.summary2())"
   ]
  },
  {
   "cell_type": "code",
   "execution_count": 216,
   "metadata": {},
   "outputs": [
    {
     "name": "stdout",
     "output_type": "stream",
     "text": [
      "Optimization terminated successfully.\n",
      "         Current function value: 0.680761\n",
      "         Iterations 5\n",
      "                               Results: Logit\n",
      "=============================================================================\n",
      "Model:                 Logit                  Pseudo R-squared:   0.018      \n",
      "Dependent Variable:    Response (97NK Mail)   AIC:                148070.0775\n",
      "Date:                  2019-04-23 15:49       BIC:                148118.0614\n",
      "No. Observations:      108746                 Log-Likelihood:     -74030.    \n",
      "Df Model:              4                      LL-Null:            -75377.    \n",
      "Df Residuals:          108741                 LLR p-value:        0.0000     \n",
      "Converged:             1.0000                 Scale:              1.0000     \n",
      "No. Iterations:        5.0000                                                \n",
      "-----------------------------------------------------------------------------\n",
      "                              Coef.  Std.Err.    z     P>|z|   [0.025  0.975]\n",
      "-----------------------------------------------------------------------------\n",
      "Donated to In House           0.1382   0.0264   5.2401 0.0000  0.0865  0.1899\n",
      "Donated to P3                 0.5285   0.0433  12.2109 0.0000  0.4436  0.6133\n",
      "Is a major donor              0.7306   0.1455   5.0226 0.0000  0.4455  1.0157\n",
      "Total No. (All Gifts:Promos)  0.0462   0.0012  39.5449 0.0000  0.0439  0.0485\n",
      "Amt (Most Recent Gift)       -0.0189   0.0004 -43.0455 0.0000 -0.0197 -0.0180\n",
      "=============================================================================\n",
      "\n"
     ]
    }
   ],
   "source": [
    "postlogit2_cols = ['Donated to In House','Donated to P3','Is a major donor',\n",
    "                'Total No. (All Gifts:Promos)','Amt (Most Recent Gift)']\n",
    "postlogit2_df_sm_X_v2_train = df_sm_Xy_train_drp[postlogit2_cols]\n",
    "df_sm_y_v2_train = df_sm_Xy_train_drp['Response (97NK Mail)']\n",
    "\n",
    "logit_model=sm.Logit(df_sm_y_v2_train,postlogit2_df_sm_X_v2_train)\n",
    "result=logit_model.fit()\n",
    "print(result.summary2())"
   ]
  },
  {
   "cell_type": "code",
   "execution_count": 223,
   "metadata": {},
   "outputs": [
    {
     "name": "stdout",
     "output_type": "stream",
     "text": [
      "total oversampled dataset:  72534\n",
      "1    36267\n",
      "0    36267\n",
      "Name: Response (97NK Mail), dtype: int64\n",
      "no response(%):  0.5\n",
      "response(%):  0.5\n",
      "===\n",
      "total validation dataset:  57247\n",
      "0    54302\n",
      "1     2945\n",
      "Name: Response (97NK Mail), dtype: int64\n"
     ]
    }
   ],
   "source": [
    "X_v3 = pproc_df2.loc[:, pproc_df2.columns.isin(postlogit_cols)]\n",
    "y_v3 = pproc_df2['Response (97NK Mail)']\n",
    "\n",
    "from imblearn.over_sampling import SMOTE\n",
    "\n",
    "os = SMOTE(random_state=0)\n",
    "X3_train, X3_test, y3_train, y3_test = train_test_split(X_v3, y_v3, test_size=0.6, random_state=0)\n",
    "columns = X3_train.columns\n",
    "os_data_X, os_data_y=os.fit_sample(X3_train, y3_train)\n",
    "os_data_X = pd.DataFrame(data=os_data_X,columns=postlogit_cols)\n",
    "os_data_y= pd.DataFrame(data=os_data_y,columns=['Response (97NK Mail)'])\n",
    "\n",
    "print(\"total oversampled dataset: \",len(os_data_X))\n",
    "print(os_data_y['Response (97NK Mail)'].value_counts())\n",
    "print(\"no response(%): \",len(os_data_y[os_data_y['Response (97NK Mail)']==0])/len(os_data_X))\n",
    "print(\"response(%): \",len(os_data_y[os_data_y['Response (97NK Mail)']==1])/len(os_data_X))\n",
    "print(\"===\")\n",
    "print(\"total validation dataset: \",len(X3_test))\n",
    "df_y3_test = pd.DataFrame(y3_test)\n",
    "print(df_y3_test['Response (97NK Mail)'].value_counts())"
   ]
  },
  {
   "cell_type": "code",
   "execution_count": 224,
   "metadata": {},
   "outputs": [
    {
     "data": {
      "text/plain": [
       "LogisticRegression(C=1.0, class_weight=None, dual=False, fit_intercept=True,\n",
       "          intercept_scaling=1, max_iter=100, multi_class='ovr',\n",
       "          n_jobs=None, penalty='l2', random_state=None, solver='liblinear',\n",
       "          tol=0.0001, verbose=0, warm_start=False)"
      ]
     },
     "execution_count": 224,
     "metadata": {},
     "output_type": "execute_result"
    }
   ],
   "source": [
    "from sklearn.linear_model import LogisticRegression\n",
    "from sklearn import metrics\n",
    "\n",
    "logreg = LogisticRegression(multi_class='ovr',solver='liblinear')\n",
    "logreg.fit(X3_train, y3_train)"
   ]
  },
  {
   "cell_type": "code",
   "execution_count": 225,
   "metadata": {},
   "outputs": [
    {
     "data": {
      "image/png": "[encoded data removed]",
      "text/plain": [
       "<Figure size 432x288 with 1 Axes>"
      ]
     },
     "metadata": {
      "needs_background": "light"
     },
     "output_type": "display_data"
    }
   ],
   "source": [
    "from sklearn.metrics import roc_auc_score\n",
    "from sklearn.metrics import roc_curve\n",
    "\n",
    "logit_roc_auc2 = roc_auc_score(y3_test, logreg.predict(X3_test))\n",
    "fpr2, tpr2, thresholds2 = roc_curve(y3_test, logreg.predict_proba(X3_test)[:,1])\n",
    "plt.figure()\n",
    "plt.plot(fpr, tpr, label='Logistic Regression (area = %0.2f)' % logit_roc_auc2)\n",
    "plt.plot([0, 1], [0, 1],'r--')\n",
    "plt.xlim([0.0, 1.0])\n",
    "plt.ylim([0.0, 1.05])\n",
    "plt.xlabel('False Positive Rate')\n",
    "plt.ylabel('True Positive Rate')\n",
    "plt.title('Receiver operating characteristic')\n",
    "plt.legend(loc=\"lower right\")\n",
    "plt.savefig('Log_ROC')\n",
    "plt.show()"
   ]
  },
  {
   "cell_type": "code",
   "execution_count": 226,
   "metadata": {},
   "outputs": [
    {
     "name": "stdout",
     "output_type": "stream",
     "text": [
      "[[54302     0]\n",
      " [ 2945     0]]\n",
      "misclassification rate:  0.05144374377696648\n",
      "sensitivity:  1.0\n",
      "specificity:  0.0\n"
     ]
    }
   ],
   "source": [
    "from sklearn.metrics import confusion_matrix\n",
    "\n",
    "y_pred2 = logreg.predict(X3_test)\n",
    "\n",
    "confusion_matrix2 = confusion_matrix(y3_test, y_pred2)\n",
    "print(confusion_matrix2)\n",
    "print(\"misclassification rate: \", (confusion_matrix2[0][1]+confusion_matrix2[1][0])/confusion_matrix2.sum())\n",
    "print(\"sensitivity: \",confusion_matrix2[0][0]/(confusion_matrix2[0][0]+confusion_matrix2[0][1]))\n",
    "print(\"specificity: \",confusion_matrix2[1][1]/(confusion_matrix2[1][1]+confusion_matrix2[1][0]))"
   ]
  },
  {
   "cell_type": "markdown",
   "metadata": {},
   "source": [
    "##### LOGISTIC REGRESSION IMPLEMENTATION"
   ]
  },
  {
   "cell_type": "code",
   "execution_count": 233,
   "metadata": {},
   "outputs": [
    {
     "data": {
      "text/plain": [
       "LogisticRegression(C=1.0, class_weight=None, dual=False, fit_intercept=True,\n",
       "          intercept_scaling=1, max_iter=100, multi_class='ovr',\n",
       "          n_jobs=None, penalty='l2', random_state=None, solver='liblinear',\n",
       "          tol=0.0001, verbose=0, warm_start=False)"
      ]
     },
     "execution_count": 233,
     "metadata": {},
     "output_type": "execute_result"
    }
   ],
   "source": [
    "from sklearn.linear_model import LogisticRegression\n",
    "from sklearn import metrics\n",
    "\n",
    "logreg = LogisticRegression(multi_class='ovr',solver='liblinear')\n",
    "logreg.fit(sm_X_v2_train, sm_y_v2_train)"
   ]
  },
  {
   "cell_type": "code",
   "execution_count": 234,
   "metadata": {},
   "outputs": [
    {
     "name": "stdout",
     "output_type": "stream",
     "text": [
      "Accuracy of logistic regression classifier on test set:  0.6245567453316331\n"
     ]
    }
   ],
   "source": [
    "y_pred = logreg.predict(X_v2_val)\n",
    "print('Accuracy of logistic regression classifier on test set: {: }'.format(logreg.score(X_v2_val, y_v2_val)))"
   ]
  },
  {
   "cell_type": "code",
   "execution_count": 235,
   "metadata": {},
   "outputs": [
    {
     "name": "stdout",
     "output_type": "stream",
     "text": [
      "[[34276 20026]\n",
      " [ 1467  1478]]\n"
     ]
    }
   ],
   "source": [
    "from sklearn.metrics import confusion_matrix\n",
    "\n",
    "confusion_matrix = confusion_matrix(y_v2_val, y_pred)\n",
    "print(confusion_matrix)"
   ]
  },
  {
   "cell_type": "code",
   "execution_count": 236,
   "metadata": {},
   "outputs": [
    {
     "data": {
      "text/plain": [
       "57247"
      ]
     },
     "execution_count": 236,
     "metadata": {},
     "output_type": "execute_result"
    }
   ],
   "source": [
    "confusion_matrix.sum()"
   ]
  },
  {
   "cell_type": "code",
   "execution_count": 237,
   "metadata": {},
   "outputs": [
    {
     "name": "stdout",
     "output_type": "stream",
     "text": [
      "misclassification rate:  0.3754432546683669\n",
      "sensitivity:  0.6312106368089573\n",
      "specificity:  0.5018675721561969\n"
     ]
    }
   ],
   "source": [
    "print(\"misclassification rate: \", (confusion_matrix[0][1]+confusion_matrix[1][0])/confusion_matrix.sum())\n",
    "print(\"sensitivity: \",confusion_matrix[0][0]/(confusion_matrix[0][0]+confusion_matrix[0][1]))\n",
    "print(\"specificity: \",confusion_matrix[1][1]/(confusion_matrix[1][1]+confusion_matrix[1][0]))"
   ]
  },
  {
   "cell_type": "code",
   "execution_count": 238,
   "metadata": {},
   "outputs": [
    {
     "name": "stdout",
     "output_type": "stream",
     "text": [
      "              precision    recall  f1-score   support\n",
      "\n",
      "           0       0.96      0.63      0.76     54302\n",
      "           1       0.07      0.50      0.12      2945\n",
      "\n",
      "   micro avg       0.62      0.62      0.62     57247\n",
      "   macro avg       0.51      0.57      0.44     57247\n",
      "weighted avg       0.91      0.62      0.73     57247\n",
      "\n"
     ]
    }
   ],
   "source": [
    "from sklearn.metrics import classification_report\n",
    "\n",
    "print(classification_report(y_v2_val, y_pred))"
   ]
  },
  {
   "cell_type": "code",
   "execution_count": 239,
   "metadata": {},
   "outputs": [
    {
     "data": {
      "image/png": "[encoded data removed]",
      "text/plain": [
       "<Figure size 432x288 with 1 Axes>"
      ]
     },
     "metadata": {
      "needs_background": "light"
     },
     "output_type": "display_data"
    }
   ],
   "source": [
    "from sklearn.metrics import roc_auc_score\n",
    "from sklearn.metrics import roc_curve\n",
    "\n",
    "logit_roc_auc = roc_auc_score(y_v2_val, logreg.predict(X_v2_val))\n",
    "fpr, tpr, thresholds = roc_curve(y_v2_val, logreg.predict_proba(X_v2_val)[:,1])\n",
    "plt.figure()\n",
    "plt.plot(fpr, tpr, label='Logistic Regression (area = %0.2f)' % logit_roc_auc)\n",
    "plt.plot([0, 1], [0, 1],'r--')\n",
    "plt.xlim([0.0, 1.0])\n",
    "plt.ylim([0.0, 1.05])\n",
    "plt.xlabel('False Positive Rate')\n",
    "plt.ylabel('True Positive Rate')\n",
    "plt.title('Receiver operating characteristic')\n",
    "plt.legend(loc=\"lower right\")\n",
    "plt.savefig('Log_ROC')\n",
    "plt.show()"
   ]
  },
  {
   "cell_type": "markdown",
   "metadata": {},
   "source": [
    "Verdict:\n",
    "- my overall misclassification rate is better vs my SAS implementation\n",
    "- my true positive rate is a bit better (i.e., my model can better predict actual responders)\n",
    "- my true negative rate is worse (i.e., my model is worse in identifying actual non-responders)\n",
    "- my model is worse off by 0.04 or 4 percentage pts in terms of AUROC vs the SAS implementation (i.e., my model performs worse in terms of clearly segregating the two classes)\n",
    "- A mammogram is another example of high-sensitivity / low specificity test. In general, high sensitivity tests have low specificity. In other words, they are good for catching actual cases of the disease but they also come with a fairly high rate of false positives. (https://www.statisticshowto.datasciencecentral.com/sensitivity-vs-specificity-statistics/)\n",
    "- It may appear that for predicting rare events like diseases, high-sensitivity / low specificity models are also used.\n",
    "- In our case, however, the model would only be desirable if the amount of donation is predicted to outweigh the cost of producing and sending the cards.\n",
    "- <strong>NEXT STEP:</strong> Forecast amount of donation."
   ]
  },
  {
   "cell_type": "code",
   "execution_count": 305,
   "metadata": {},
   "outputs": [
    {
     "name": "stderr",
     "output_type": "stream",
     "text": [
      "c:\\users\\monica aguilar\\appdata\\local\\programs\\python\\python37-32\\lib\\site-packages\\ipykernel_launcher.py:2: SettingWithCopyWarning: \n",
      "A value is trying to be set on a copy of a slice from a DataFrame.\n",
      "Try using .loc[row_indexer,col_indexer] = value instead\n",
      "\n",
      "See the caveats in the documentation: http://pandas.pydata.org/pandas-docs/stable/indexing.html#indexing-view-versus-copy\n",
      "  \n"
     ]
    }
   ],
   "source": [
    "lst_y_pred = [x for x in y_pred]\n",
    "lst_y_v2_val = \n",
    "X_v2_val['y_pred'] = lst_y_pred"
   ]
  },
  {
   "cell_type": "code",
   "execution_count": 306,
   "metadata": {},
   "outputs": [
    {
     "ename": "KeyError",
     "evalue": "\"['temp'] not found in axis\"",
     "output_type": "error",
     "traceback": [
      "\u001b[1;31m---------------------------------------------------------------------------\u001b[0m",
      "\u001b[1;31mKeyError\u001b[0m                                  Traceback (most recent call last)",
      "\u001b[1;32m<ipython-input-306-d865b7558324>\u001b[0m in \u001b[0;36m<module>\u001b[1;34m\u001b[0m\n\u001b[1;32m----> 1\u001b[1;33m \u001b[0mX_v2_val\u001b[0m\u001b[1;33m.\u001b[0m\u001b[0mdrop\u001b[0m\u001b[1;33m(\u001b[0m\u001b[1;33m[\u001b[0m\u001b[1;34m'temp'\u001b[0m\u001b[1;33m]\u001b[0m\u001b[1;33m,\u001b[0m \u001b[0maxis\u001b[0m\u001b[1;33m=\u001b[0m\u001b[1;36m1\u001b[0m\u001b[1;33m,\u001b[0m \u001b[0minplace\u001b[0m\u001b[1;33m=\u001b[0m\u001b[1;32mTrue\u001b[0m\u001b[1;33m)\u001b[0m\u001b[1;33m\u001b[0m\u001b[1;33m\u001b[0m\u001b[0m\n\u001b[0m",
      "\u001b[1;32mc:\\users\\monica aguilar\\appdata\\local\\programs\\python\\python37-32\\lib\\site-packages\\pandas\\core\\frame.py\u001b[0m in \u001b[0;36mdrop\u001b[1;34m(self, labels, axis, index, columns, level, inplace, errors)\u001b[0m\n\u001b[0;32m   3695\u001b[0m                                            \u001b[0mindex\u001b[0m\u001b[1;33m=\u001b[0m\u001b[0mindex\u001b[0m\u001b[1;33m,\u001b[0m \u001b[0mcolumns\u001b[0m\u001b[1;33m=\u001b[0m\u001b[0mcolumns\u001b[0m\u001b[1;33m,\u001b[0m\u001b[1;33m\u001b[0m\u001b[1;33m\u001b[0m\u001b[0m\n\u001b[0;32m   3696\u001b[0m                                            \u001b[0mlevel\u001b[0m\u001b[1;33m=\u001b[0m\u001b[0mlevel\u001b[0m\u001b[1;33m,\u001b[0m \u001b[0minplace\u001b[0m\u001b[1;33m=\u001b[0m\u001b[0minplace\u001b[0m\u001b[1;33m,\u001b[0m\u001b[1;33m\u001b[0m\u001b[1;33m\u001b[0m\u001b[0m\n\u001b[1;32m-> 3697\u001b[1;33m                                            errors=errors)\n\u001b[0m\u001b[0;32m   3698\u001b[0m \u001b[1;33m\u001b[0m\u001b[0m\n\u001b[0;32m   3699\u001b[0m     @rewrite_axis_style_signature('mapper', [('copy', True),\n",
      "\u001b[1;32mc:\\users\\monica aguilar\\appdata\\local\\programs\\python\\python37-32\\lib\\site-packages\\pandas\\core\\generic.py\u001b[0m in \u001b[0;36mdrop\u001b[1;34m(self, labels, axis, index, columns, level, inplace, errors)\u001b[0m\n\u001b[0;32m   3109\u001b[0m         \u001b[1;32mfor\u001b[0m \u001b[0maxis\u001b[0m\u001b[1;33m,\u001b[0m \u001b[0mlabels\u001b[0m \u001b[1;32min\u001b[0m \u001b[0maxes\u001b[0m\u001b[1;33m.\u001b[0m\u001b[0mitems\u001b[0m\u001b[1;33m(\u001b[0m\u001b[1;33m)\u001b[0m\u001b[1;33m:\u001b[0m\u001b[1;33m\u001b[0m\u001b[1;33m\u001b[0m\u001b[0m\n\u001b[0;32m   3110\u001b[0m             \u001b[1;32mif\u001b[0m \u001b[0mlabels\u001b[0m \u001b[1;32mis\u001b[0m \u001b[1;32mnot\u001b[0m \u001b[1;32mNone\u001b[0m\u001b[1;33m:\u001b[0m\u001b[1;33m\u001b[0m\u001b[1;33m\u001b[0m\u001b[0m\n\u001b[1;32m-> 3111\u001b[1;33m                 \u001b[0mobj\u001b[0m \u001b[1;33m=\u001b[0m \u001b[0mobj\u001b[0m\u001b[1;33m.\u001b[0m\u001b[0m_drop_axis\u001b[0m\u001b[1;33m(\u001b[0m\u001b[0mlabels\u001b[0m\u001b[1;33m,\u001b[0m \u001b[0maxis\u001b[0m\u001b[1;33m,\u001b[0m \u001b[0mlevel\u001b[0m\u001b[1;33m=\u001b[0m\u001b[0mlevel\u001b[0m\u001b[1;33m,\u001b[0m \u001b[0merrors\u001b[0m\u001b[1;33m=\u001b[0m\u001b[0merrors\u001b[0m\u001b[1;33m)\u001b[0m\u001b[1;33m\u001b[0m\u001b[1;33m\u001b[0m\u001b[0m\n\u001b[0m\u001b[0;32m   3112\u001b[0m \u001b[1;33m\u001b[0m\u001b[0m\n\u001b[0;32m   3113\u001b[0m         \u001b[1;32mif\u001b[0m \u001b[0minplace\u001b[0m\u001b[1;33m:\u001b[0m\u001b[1;33m\u001b[0m\u001b[1;33m\u001b[0m\u001b[0m\n",
      "\u001b[1;32mc:\\users\\monica aguilar\\appdata\\local\\programs\\python\\python37-32\\lib\\site-packages\\pandas\\core\\generic.py\u001b[0m in \u001b[0;36m_drop_axis\u001b[1;34m(self, labels, axis, level, errors)\u001b[0m\n\u001b[0;32m   3141\u001b[0m                 \u001b[0mnew_axis\u001b[0m \u001b[1;33m=\u001b[0m \u001b[0maxis\u001b[0m\u001b[1;33m.\u001b[0m\u001b[0mdrop\u001b[0m\u001b[1;33m(\u001b[0m\u001b[0mlabels\u001b[0m\u001b[1;33m,\u001b[0m \u001b[0mlevel\u001b[0m\u001b[1;33m=\u001b[0m\u001b[0mlevel\u001b[0m\u001b[1;33m,\u001b[0m \u001b[0merrors\u001b[0m\u001b[1;33m=\u001b[0m\u001b[0merrors\u001b[0m\u001b[1;33m)\u001b[0m\u001b[1;33m\u001b[0m\u001b[1;33m\u001b[0m\u001b[0m\n\u001b[0;32m   3142\u001b[0m             \u001b[1;32melse\u001b[0m\u001b[1;33m:\u001b[0m\u001b[1;33m\u001b[0m\u001b[1;33m\u001b[0m\u001b[0m\n\u001b[1;32m-> 3143\u001b[1;33m                 \u001b[0mnew_axis\u001b[0m \u001b[1;33m=\u001b[0m \u001b[0maxis\u001b[0m\u001b[1;33m.\u001b[0m\u001b[0mdrop\u001b[0m\u001b[1;33m(\u001b[0m\u001b[0mlabels\u001b[0m\u001b[1;33m,\u001b[0m \u001b[0merrors\u001b[0m\u001b[1;33m=\u001b[0m\u001b[0merrors\u001b[0m\u001b[1;33m)\u001b[0m\u001b[1;33m\u001b[0m\u001b[1;33m\u001b[0m\u001b[0m\n\u001b[0m\u001b[0;32m   3144\u001b[0m             \u001b[0mresult\u001b[0m \u001b[1;33m=\u001b[0m \u001b[0mself\u001b[0m\u001b[1;33m.\u001b[0m\u001b[0mreindex\u001b[0m\u001b[1;33m(\u001b[0m\u001b[1;33m**\u001b[0m\u001b[1;33m{\u001b[0m\u001b[0maxis_name\u001b[0m\u001b[1;33m:\u001b[0m \u001b[0mnew_axis\u001b[0m\u001b[1;33m}\u001b[0m\u001b[1;33m)\u001b[0m\u001b[1;33m\u001b[0m\u001b[1;33m\u001b[0m\u001b[0m\n\u001b[0;32m   3145\u001b[0m \u001b[1;33m\u001b[0m\u001b[0m\n",
      "\u001b[1;32mc:\\users\\monica aguilar\\appdata\\local\\programs\\python\\python37-32\\lib\\site-packages\\pandas\\core\\indexes\\base.py\u001b[0m in \u001b[0;36mdrop\u001b[1;34m(self, labels, errors)\u001b[0m\n\u001b[0;32m   4402\u001b[0m             \u001b[1;32mif\u001b[0m \u001b[0merrors\u001b[0m \u001b[1;33m!=\u001b[0m \u001b[1;34m'ignore'\u001b[0m\u001b[1;33m:\u001b[0m\u001b[1;33m\u001b[0m\u001b[1;33m\u001b[0m\u001b[0m\n\u001b[0;32m   4403\u001b[0m                 raise KeyError(\n\u001b[1;32m-> 4404\u001b[1;33m                     '{} not found in axis'.format(labels[mask]))\n\u001b[0m\u001b[0;32m   4405\u001b[0m             \u001b[0mindexer\u001b[0m \u001b[1;33m=\u001b[0m \u001b[0mindexer\u001b[0m\u001b[1;33m[\u001b[0m\u001b[1;33m~\u001b[0m\u001b[0mmask\u001b[0m\u001b[1;33m]\u001b[0m\u001b[1;33m\u001b[0m\u001b[1;33m\u001b[0m\u001b[0m\n\u001b[0;32m   4406\u001b[0m         \u001b[1;32mreturn\u001b[0m \u001b[0mself\u001b[0m\u001b[1;33m.\u001b[0m\u001b[0mdelete\u001b[0m\u001b[1;33m(\u001b[0m\u001b[0mindexer\u001b[0m\u001b[1;33m)\u001b[0m\u001b[1;33m\u001b[0m\u001b[1;33m\u001b[0m\u001b[0m\n",
      "\u001b[1;31mKeyError\u001b[0m: \"['temp'] not found in axis\""
     ]
    }
   ],
   "source": [
    "X_v2_val.drop(['temp'], axis=1, inplace=True)"
   ]
  },
  {
   "cell_type": "code",
   "execution_count": 308,
   "metadata": {},
   "outputs": [
    {
     "data": {
      "text/html": [
       "<div>\n",
       "<style scoped>\n",
       "    .dataframe tbody tr th:only-of-type {\n",
       "        vertical-align: middle;\n",
       "    }\n",
       "\n",
       "    .dataframe tbody tr th {\n",
       "        vertical-align: top;\n",
       "    }\n",
       "\n",
       "    .dataframe thead th {\n",
       "        text-align: right;\n",
       "    }\n",
       "</style>\n",
       "<table border=\"1\" class=\"dataframe\">\n",
       "  <thead>\n",
       "    <tr style=\"text-align: right;\">\n",
       "      <th></th>\n",
       "      <th>CONTROLN</th>\n",
       "      <th>Donated to In House</th>\n",
       "      <th>Donated to P3</th>\n",
       "      <th>Is a major donor</th>\n",
       "      <th>Total No. (All Gifts:Promos)</th>\n",
       "      <th>Amt (Most Recent Gift)</th>\n",
       "      <th>y_pred</th>\n",
       "    </tr>\n",
       "  </thead>\n",
       "  <tbody>\n",
       "    <tr>\n",
       "      <th>0</th>\n",
       "      <td>11148</td>\n",
       "      <td>1</td>\n",
       "      <td>0</td>\n",
       "      <td>0</td>\n",
       "      <td>12</td>\n",
       "      <td>10.0</td>\n",
       "      <td>1</td>\n",
       "    </tr>\n",
       "    <tr>\n",
       "      <th>1</th>\n",
       "      <td>68233</td>\n",
       "      <td>0</td>\n",
       "      <td>0</td>\n",
       "      <td>0</td>\n",
       "      <td>10</td>\n",
       "      <td>15.0</td>\n",
       "      <td>1</td>\n",
       "    </tr>\n",
       "    <tr>\n",
       "      <th>2</th>\n",
       "      <td>159109</td>\n",
       "      <td>0</td>\n",
       "      <td>0</td>\n",
       "      <td>0</td>\n",
       "      <td>5</td>\n",
       "      <td>25.0</td>\n",
       "      <td>0</td>\n",
       "    </tr>\n",
       "    <tr>\n",
       "      <th>3</th>\n",
       "      <td>30849</td>\n",
       "      <td>0</td>\n",
       "      <td>0</td>\n",
       "      <td>0</td>\n",
       "      <td>12</td>\n",
       "      <td>10.0</td>\n",
       "      <td>1</td>\n",
       "    </tr>\n",
       "    <tr>\n",
       "      <th>4</th>\n",
       "      <td>160343</td>\n",
       "      <td>0</td>\n",
       "      <td>0</td>\n",
       "      <td>0</td>\n",
       "      <td>1</td>\n",
       "      <td>20.0</td>\n",
       "      <td>0</td>\n",
       "    </tr>\n",
       "  </tbody>\n",
       "</table>\n",
       "</div>"
      ],
      "text/plain": [
       "   CONTROLN  Donated to In House  Donated to P3  Is a major donor  \\\n",
       "0     11148                    1              0                 0   \n",
       "1     68233                    0              0                 0   \n",
       "2    159109                    0              0                 0   \n",
       "3     30849                    0              0                 0   \n",
       "4    160343                    0              0                 0   \n",
       "\n",
       "   Total No. (All Gifts:Promos)  Amt (Most Recent Gift)  y_pred  \n",
       "0                            12                    10.0       1  \n",
       "1                            10                    15.0       1  \n",
       "2                             5                    25.0       0  \n",
       "3                            12                    10.0       1  \n",
       "4                             1                    20.0       0  "
      ]
     },
     "execution_count": 308,
     "metadata": {},
     "output_type": "execute_result"
    }
   ],
   "source": [
    "X_v2_val.head()"
   ]
  },
  {
   "cell_type": "code",
   "execution_count": 312,
   "metadata": {},
   "outputs": [
    {
     "data": {
      "text/html": [
       "<div>\n",
       "<style scoped>\n",
       "    .dataframe tbody tr th:only-of-type {\n",
       "        vertical-align: middle;\n",
       "    }\n",
       "\n",
       "    .dataframe tbody tr th {\n",
       "        vertical-align: top;\n",
       "    }\n",
       "\n",
       "    .dataframe thead th {\n",
       "        text-align: right;\n",
       "    }\n",
       "</style>\n",
       "<table border=\"1\" class=\"dataframe\">\n",
       "  <thead>\n",
       "    <tr style=\"text-align: right;\">\n",
       "      <th></th>\n",
       "      <th>CONTROLN</th>\n",
       "      <th>Avg Amt (All Gifts)</th>\n",
       "    </tr>\n",
       "  </thead>\n",
       "  <tbody>\n",
       "    <tr>\n",
       "      <th>0</th>\n",
       "      <td>95515</td>\n",
       "      <td>7.741935</td>\n",
       "    </tr>\n",
       "    <tr>\n",
       "      <th>1</th>\n",
       "      <td>148535</td>\n",
       "      <td>15.666667</td>\n",
       "    </tr>\n",
       "    <tr>\n",
       "      <th>2</th>\n",
       "      <td>15078</td>\n",
       "      <td>7.481481</td>\n",
       "    </tr>\n",
       "    <tr>\n",
       "      <th>3</th>\n",
       "      <td>172556</td>\n",
       "      <td>6.812500</td>\n",
       "    </tr>\n",
       "    <tr>\n",
       "      <th>4</th>\n",
       "      <td>7112</td>\n",
       "      <td>6.864865</td>\n",
       "    </tr>\n",
       "  </tbody>\n",
       "</table>\n",
       "</div>"
      ],
      "text/plain": [
       "   CONTROLN  Avg Amt (All Gifts)\n",
       "0     95515             7.741935\n",
       "1    148535            15.666667\n",
       "2     15078             7.481481\n",
       "3    172556             6.812500\n",
       "4      7112             6.864865"
      ]
     },
     "execution_count": 312,
     "metadata": {},
     "output_type": "execute_result"
    }
   ],
   "source": [
    "amt_df = pd.DataFrame(pproc_df2['Avg Amt (All Gifts)'])\n",
    "amt_df.reset_index(inplace=True)\n",
    "amt_df.head()"
   ]
  },
  {
   "cell_type": "code",
   "execution_count": 332,
   "metadata": {},
   "outputs": [
    {
     "data": {
      "text/plain": [
       "pandas.core.frame.DataFrame"
      ]
     },
     "execution_count": 332,
     "metadata": {},
     "output_type": "execute_result"
    }
   ],
   "source": [
    "df_y_v2_val = y_v2_val.to_frame()\n",
    "type(df_y_v2_val)"
   ]
  },
  {
   "cell_type": "code",
   "execution_count": 333,
   "metadata": {},
   "outputs": [
    {
     "data": {
      "text/html": [
       "<div>\n",
       "<style scoped>\n",
       "    .dataframe tbody tr th:only-of-type {\n",
       "        vertical-align: middle;\n",
       "    }\n",
       "\n",
       "    .dataframe tbody tr th {\n",
       "        vertical-align: top;\n",
       "    }\n",
       "\n",
       "    .dataframe thead th {\n",
       "        text-align: right;\n",
       "    }\n",
       "</style>\n",
       "<table border=\"1\" class=\"dataframe\">\n",
       "  <thead>\n",
       "    <tr style=\"text-align: right;\">\n",
       "      <th></th>\n",
       "      <th>CONTROLN</th>\n",
       "      <th>Donated to In House</th>\n",
       "      <th>Donated to P3</th>\n",
       "      <th>Is a major donor</th>\n",
       "      <th>Total No. (All Gifts:Promos)</th>\n",
       "      <th>Amt (Most Recent Gift)</th>\n",
       "      <th>y_pred</th>\n",
       "      <th>Avg Amt (All Gifts)</th>\n",
       "      <th>Response (97NK Mail)</th>\n",
       "    </tr>\n",
       "  </thead>\n",
       "  <tbody>\n",
       "    <tr>\n",
       "      <th>0</th>\n",
       "      <td>11148</td>\n",
       "      <td>1</td>\n",
       "      <td>0</td>\n",
       "      <td>0</td>\n",
       "      <td>12</td>\n",
       "      <td>10.0</td>\n",
       "      <td>1</td>\n",
       "      <td>10.921053</td>\n",
       "      <td>0</td>\n",
       "    </tr>\n",
       "    <tr>\n",
       "      <th>1</th>\n",
       "      <td>68233</td>\n",
       "      <td>0</td>\n",
       "      <td>0</td>\n",
       "      <td>0</td>\n",
       "      <td>10</td>\n",
       "      <td>15.0</td>\n",
       "      <td>1</td>\n",
       "      <td>7.866667</td>\n",
       "      <td>0</td>\n",
       "    </tr>\n",
       "    <tr>\n",
       "      <th>2</th>\n",
       "      <td>159109</td>\n",
       "      <td>0</td>\n",
       "      <td>0</td>\n",
       "      <td>0</td>\n",
       "      <td>5</td>\n",
       "      <td>25.0</td>\n",
       "      <td>0</td>\n",
       "      <td>18.125000</td>\n",
       "      <td>0</td>\n",
       "    </tr>\n",
       "    <tr>\n",
       "      <th>3</th>\n",
       "      <td>30849</td>\n",
       "      <td>0</td>\n",
       "      <td>0</td>\n",
       "      <td>0</td>\n",
       "      <td>12</td>\n",
       "      <td>10.0</td>\n",
       "      <td>1</td>\n",
       "      <td>6.800000</td>\n",
       "      <td>0</td>\n",
       "    </tr>\n",
       "    <tr>\n",
       "      <th>4</th>\n",
       "      <td>160343</td>\n",
       "      <td>0</td>\n",
       "      <td>0</td>\n",
       "      <td>0</td>\n",
       "      <td>1</td>\n",
       "      <td>20.0</td>\n",
       "      <td>0</td>\n",
       "      <td>20.000000</td>\n",
       "      <td>0</td>\n",
       "    </tr>\n",
       "  </tbody>\n",
       "</table>\n",
       "</div>"
      ],
      "text/plain": [
       "   CONTROLN  Donated to In House  Donated to P3  Is a major donor  \\\n",
       "0     11148                    1              0                 0   \n",
       "1     68233                    0              0                 0   \n",
       "2    159109                    0              0                 0   \n",
       "3     30849                    0              0                 0   \n",
       "4    160343                    0              0                 0   \n",
       "\n",
       "   Total No. (All Gifts:Promos)  Amt (Most Recent Gift)  y_pred  \\\n",
       "0                            12                    10.0       1   \n",
       "1                            10                    15.0       1   \n",
       "2                             5                    25.0       0   \n",
       "3                            12                    10.0       1   \n",
       "4                             1                    20.0       0   \n",
       "\n",
       "   Avg Amt (All Gifts)  Response (97NK Mail)  \n",
       "0            10.921053                     0  \n",
       "1             7.866667                     0  \n",
       "2            18.125000                     0  \n",
       "3             6.800000                     0  \n",
       "4            20.000000                     0  "
      ]
     },
     "execution_count": 333,
     "metadata": {},
     "output_type": "execute_result"
    }
   ],
   "source": [
    "df_pred_amt = X_v2_val.merge(amt_df,on='CONTROLN').merge(df_y_v2_val,on='CONTROLN')\n",
    "df_pred_amt.head()"
   ]
  },
  {
   "cell_type": "code",
   "execution_count": 337,
   "metadata": {},
   "outputs": [
    {
     "data": {
      "text/plain": [
       "y_pred\n",
       "0    569916.862552\n",
       "1    192286.301145\n",
       "Name: Avg Amt (All Gifts), dtype: float64"
      ]
     },
     "execution_count": 337,
     "metadata": {},
     "output_type": "execute_result"
    }
   ],
   "source": [
    "sum_by_ypred = df_pred_amt.groupby(\"y_pred\")[\"Avg Amt (All Gifts)\"].sum()\n",
    "sum_by_ypred"
   ]
  },
  {
   "cell_type": "code",
   "execution_count": 339,
   "metadata": {},
   "outputs": [
    {
     "data": {
      "text/plain": [
       "Response (97NK Mail)\n",
       "0    727234.960236\n",
       "1     34968.203461\n",
       "Name: Avg Amt (All Gifts), dtype: float64"
      ]
     },
     "execution_count": 339,
     "metadata": {},
     "output_type": "execute_result"
    }
   ],
   "source": [
    "sum_by_yactual = df_pred_amt.groupby(\"Response (97NK Mail)\")[\"Avg Amt (All Gifts)\"].sum()\n",
    "sum_by_yactual"
   ]
  },
  {
   "cell_type": "code",
   "execution_count": 340,
   "metadata": {},
   "outputs": [
    {
     "data": {
      "text/plain": [
       "-157318.0976837461"
      ]
     },
     "execution_count": 340,
     "metadata": {},
     "output_type": "execute_result"
    }
   ],
   "source": [
    "sum_by_yactual[1]-sum_by_ypred[1]"
   ]
  },
  {
   "cell_type": "code",
   "execution_count": 343,
   "metadata": {},
   "outputs": [
    {
     "data": {
      "text/plain": [
       "Response (97NK Mail)\n",
       "0    54302\n",
       "1     2945\n",
       "Name: Avg Amt (All Gifts), dtype: int64"
      ]
     },
     "execution_count": 343,
     "metadata": {},
     "output_type": "execute_result"
    }
   ],
   "source": [
    "count_by_yactual = df_pred_amt.groupby(\"Response (97NK Mail)\")[\"Avg Amt (All Gifts)\"].count()\n",
    "count_by_yactual"
   ]
  },
  {
   "cell_type": "code",
   "execution_count": 344,
   "metadata": {},
   "outputs": [
    {
     "data": {
      "text/plain": [
       "11.873753297520038"
      ]
     },
     "execution_count": 344,
     "metadata": {},
     "output_type": "execute_result"
    }
   ],
   "source": [
    "sum_by_yactual[1]/count_by_yactual[1]"
   ]
  },
  {
   "cell_type": "markdown",
   "metadata": {},
   "source": [
    "\n",
    "## Testing out Random Forest"
   ]
  },
  {
   "cell_type": "code",
   "execution_count": 171,
   "metadata": {},
   "outputs": [
    {
     "data": {
      "text/plain": [
       "RandomForestClassifier(bootstrap=True, class_weight=None, criterion='gini',\n",
       "            max_depth=None, max_features='auto', max_leaf_nodes=None,\n",
       "            min_impurity_decrease=0.0, min_impurity_split=None,\n",
       "            min_samples_leaf=1, min_samples_split=2,\n",
       "            min_weight_fraction_leaf=0.0, n_estimators=100, n_jobs=None,\n",
       "            oob_score=False, random_state=None, verbose=0,\n",
       "            warm_start=False)"
      ]
     },
     "execution_count": 171,
     "metadata": {},
     "output_type": "execute_result"
    }
   ],
   "source": [
    "from sklearn.ensemble import RandomForestClassifier\n",
    "\n",
    "# random forest model creation\n",
    "rfc = RandomForestClassifier(n_estimators=100)\n",
    "rfc.fit(sm_X_v2_train, sm_y_v2_train)"
   ]
  },
  {
   "cell_type": "code",
   "execution_count": 186,
   "metadata": {},
   "outputs": [
    {
     "name": "stdout",
     "output_type": "stream",
     "text": [
      "Accuracy of logistic regression classifier on test set:  0.6064073226544623\n",
      "Accuracy of random forest classifier on test set:  0.9422327807570703\n"
     ]
    }
   ],
   "source": [
    "# predictions\n",
    "rfc_predict = rfc.predict(X_v2_val)\n",
    "\n",
    "\n",
    "print('Accuracy of logistic regression classifier on test set: {: }'.format(logreg.score(X_v2_val, y_v2_val)))\n",
    "print('Accuracy of random forest classifier on test set: {: }'.format(metrics.accuracy_score(y_v2_val, rfc_predict)))"
   ]
  },
  {
   "cell_type": "code",
   "execution_count": 182,
   "metadata": {},
   "outputs": [
    {
     "name": "stdout",
     "output_type": "stream",
     "text": [
      "=== Confusion Matrix ===\n",
      "[[53911   391]\n",
      " [ 2916    29]]\n",
      "\n",
      "\n",
      "=== Classification Report ===\n",
      "              precision    recall  f1-score   support\n",
      "\n",
      "           0       0.95      0.99      0.97     54302\n",
      "           1       0.07      0.01      0.02      2945\n",
      "\n",
      "   micro avg       0.94      0.94      0.94     57247\n",
      "   macro avg       0.51      0.50      0.49     57247\n",
      "weighted avg       0.90      0.94      0.92     57247\n",
      "\n",
      "\n",
      "\n"
     ]
    }
   ],
   "source": [
    "from sklearn.metrics import confusion_matrix\n",
    "from sklearn.model_selection import cross_val_score\n",
    "\n",
    "print(\"=== Confusion Matrix ===\")\n",
    "confusion_matrix = confusion_matrix(y_v2_val, rfc_predict)\n",
    "print(confusion_matrix)\n",
    "print('\\n')\n",
    "print(\"=== Classification Report ===\")\n",
    "print(classification_report(y_v2_val, rfc_predict))\n",
    "print('\\n')"
   ]
  },
  {
   "cell_type": "code",
   "execution_count": 183,
   "metadata": {},
   "outputs": [
    {
     "name": "stdout",
     "output_type": "stream",
     "text": [
      "misclassification rate:  0.05776721924292976\n",
      "sensitivity:  0.9927995285624839\n",
      "specificity:  0.009847198641765705\n"
     ]
    }
   ],
   "source": [
    "print(\"misclassification rate: \", (confusion_matrix[0][1]+confusion_matrix[1][0])/confusion_matrix.sum())\n",
    "print(\"sensitivity: \",confusion_matrix[0][0]/(confusion_matrix[0][0]+confusion_matrix[0][1]))\n",
    "print(\"specificity: \",confusion_matrix[1][1]/(confusion_matrix[1][1]+confusion_matrix[1][0]))"
   ]
  },
  {
   "cell_type": "code",
   "execution_count": null,
   "metadata": {},
   "outputs": [],
   "source": []
  },
  {
   "cell_type": "code",
   "execution_count": null,
   "metadata": {},
   "outputs": [],
   "source": []
  }
 ],
 "metadata": {
  "kernelspec": {
   "display_name": "Python 3",
   "language": "python",
   "name": "python3"
  },
  "language_info": {
   "codemirror_mode": {
    "name": "ipython",
    "version": 3
   },
   "file_extension": ".py",
   "mimetype": "text/x-python",
   "name": "python",
   "nbconvert_exporter": "python",
   "pygments_lexer": "ipython3",
   "version": "3.7.1"
  }
 },
 "nbformat": 4,
 "nbformat_minor": 2
}
